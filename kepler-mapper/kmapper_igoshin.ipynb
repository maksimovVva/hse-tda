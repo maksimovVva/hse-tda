{
 "cells": [
  {
   "cell_type": "markdown",
   "metadata": {},
   "source": [
    "# Kmapper Test Notebook\n",
    "Выполнил: Игошин Андрей\n",
    "Группа: 18 МАГ ИАД"
   ]
  },
  {
   "cell_type": "code",
   "execution_count": 1,
   "metadata": {},
   "outputs": [],
   "source": [
    "from pyspark.sql import SparkSession\n",
    "from pyspark.ml.recommendation import ALS\n",
    "from pyspark.ml.evaluation import RegressionEvaluator\n",
    "from pyspark.ml.feature import OneHotEncoder\n",
    "from pyspark.ml.feature import StringIndexer\n",
    "from pyspark.ml.feature import MinMaxScaler"
   ]
  },
  {
   "cell_type": "code",
   "execution_count": 2,
   "metadata": {},
   "outputs": [
    {
     "name": "stdout",
     "output_type": "stream",
     "text": [
      "Installing /anaconda3/lib/python3.6/site-packages/sparkmonitor/static -> sparkmonitor\n",
      "- Validating: \u001b[32mOK\u001b[0m\n",
      "\n",
      "    To initialize this nbextension in the browser every time the notebook (or other app) loads:\n",
      "    \n",
      "          jupyter nbextension enable sparkmonitor --user --py\n",
      "    \n",
      "Enabling notebook extension sparkmonitor/module...\n",
      "      - Validating: \u001b[32mOK\u001b[0m\n",
      "Enabling: sparkmonitor.serverextension\n",
      "- Writing config: /Users/a.y.igoshin/.jupyter\n",
      "    - Validating...\n",
      "      sparkmonitor.serverextension  \u001b[32mOK\u001b[0m\n"
     ]
    }
   ],
   "source": [
    "import sparkmonitor\n",
    "!jupyter nbextension install sparkmonitor --py --user --symlink \n",
    "!jupyter nbextension enable sparkmonitor --py --user            \n",
    "!jupyter serverextension enable --py --user sparkmonitor\n",
    "!ipython profile create && echo \"c.InteractiveShellApp.extensions.append('sparkmonitor.kernelextension')\" >>  $(ipython profile locate default)/ipython_kernel_config.py"
   ]
  },
  {
   "cell_type": "code",
   "execution_count": 3,
   "metadata": {},
   "outputs": [],
   "source": [
    "from pyspark import SparkContext\n",
    "sc=SparkContext.getOrCreate(conf=conf) #Start the spark context"
   ]
  },
  {
   "cell_type": "code",
   "execution_count": 4,
   "metadata": {},
   "outputs": [],
   "source": [
    "spark = SparkSession.builder.appName('MovieRatingsProject').getOrCreate()"
   ]
  },
  {
   "cell_type": "code",
   "execution_count": 5,
   "metadata": {},
   "outputs": [
    {
     "name": "stdout",
     "output_type": "stream",
     "text": [
      "+--------------+\n",
      "|           _c0|\n",
      "+--------------+\n",
      "|     943 users|\n",
      "|    1682 items|\n",
      "|100000 ratings|\n",
      "+--------------+\n",
      "\n"
     ]
    }
   ],
   "source": [
    "info = spark.read.csv('ml-100k/u.info',inferSchema=True,sep='\\t')\n",
    "info.show()"
   ]
  },
  {
   "cell_type": "code",
   "execution_count": 6,
   "metadata": {},
   "outputs": [],
   "source": [
    "from pyspark.sql.functions import from_unixtime, year"
   ]
  },
  {
   "cell_type": "markdown",
   "metadata": {},
   "source": [
    "Датасет содержит 100 000 оценок 934 пользователями 1682 фильмов. Каждый пользователь оценил не менее 20 фильмов."
   ]
  },
  {
   "cell_type": "code",
   "execution_count": 7,
   "metadata": {},
   "outputs": [],
   "source": [
    "ratings = spark.read.csv('ml-100k/u.data',inferSchema=True,sep='\\t')\n",
    "ratings = ratings.withColumnRenamed('_c0','user_id').withColumnRenamed('_c1','movie_id').withColumnRenamed('_c2','rating').withColumnRenamed('_c3','timestamp')\n",
    "# ratings.show()"
   ]
  },
  {
   "cell_type": "code",
   "execution_count": 8,
   "metadata": {},
   "outputs": [],
   "source": [
    "ratings = ratings.withColumn('year_rated', year(from_unixtime('timestamp')))"
   ]
  },
  {
   "cell_type": "code",
   "execution_count": 9,
   "metadata": {},
   "outputs": [
    {
     "name": "stdout",
     "output_type": "stream",
     "text": [
      "+-------+--------+------+---------+----------+\n",
      "|user_id|movie_id|rating|timestamp|year_rated|\n",
      "+-------+--------+------+---------+----------+\n",
      "|    196|     242|     3|881250949|      1997|\n",
      "|    186|     302|     3|891717742|      1998|\n",
      "|     22|     377|     1|878887116|      1997|\n",
      "|    244|      51|     2|880606923|      1997|\n",
      "|    166|     346|     1|886397596|      1998|\n",
      "|    298|     474|     4|884182806|      1998|\n",
      "|    115|     265|     2|881171488|      1997|\n",
      "|    253|     465|     5|891628467|      1998|\n",
      "|    305|     451|     3|886324817|      1998|\n",
      "|      6|      86|     3|883603013|      1998|\n",
      "|     62|     257|     2|879372434|      1997|\n",
      "|    286|    1014|     5|879781125|      1997|\n",
      "|    200|     222|     5|876042340|      1997|\n",
      "|    210|      40|     3|891035994|      1998|\n",
      "|    224|      29|     3|888104457|      1998|\n",
      "|    303|     785|     3|879485318|      1997|\n",
      "|    122|     387|     5|879270459|      1997|\n",
      "|    194|     274|     2|879539794|      1997|\n",
      "|    291|    1042|     4|874834944|      1997|\n",
      "|    234|    1184|     2|892079237|      1998|\n",
      "+-------+--------+------+---------+----------+\n",
      "only showing top 20 rows\n",
      "\n"
     ]
    }
   ],
   "source": [
    "ratings.show()"
   ]
  },
  {
   "cell_type": "markdown",
   "metadata": {},
   "source": [
    "Информация о каждом фильме включает в себя название, даты выхода в прокат и появления в магазинах, ссылку на IMDB и жанр. Причем один фильм может быть отнесен к нескольким жанрам. "
   ]
  },
  {
   "cell_type": "code",
   "execution_count": 10,
   "metadata": {},
   "outputs": [],
   "source": [
    "movies = spark.read.csv('ml-100k/u.item', inferSchema=True, sep='|')\n",
    "names = ['movie_id', 'movie_title', 'release_date', 'video_release_date', 'IMDb_URL', 'unknown', 'Action', 'Adventure', 'Animation', \"Children's\", 'Comedy', 'Crime', 'Documentary', 'Drama', 'Fantasy', 'Film-Noir', 'Horror', 'Musical', 'Mystery', 'Romance', 'Sci-Fi', 'Thriller', 'War', 'Western']\n",
    "for i in range(len(names)):\n",
    "    movies = movies.withColumnRenamed('_c'+str(i), names[i])\n"
   ]
  },
  {
   "cell_type": "code",
   "execution_count": 11,
   "metadata": {},
   "outputs": [],
   "source": [
    "from pyspark.sql.functions import to_date"
   ]
  },
  {
   "cell_type": "code",
   "execution_count": 12,
   "metadata": {},
   "outputs": [],
   "source": [
    "movies = movies.withColumn('year_released', year(to_date('release_date', 'dd-MMM-yyyy')))"
   ]
  },
  {
   "cell_type": "code",
   "execution_count": 13,
   "metadata": {},
   "outputs": [
    {
     "name": "stdout",
     "output_type": "stream",
     "text": [
      "+--------+--------------------+------------+------------------+--------------------+-------+------+---------+---------+----------+------+-----+-----------+-----+-------+---------+------+-------+-------+-------+------+--------+---+-------+-------------+\n",
      "|movie_id|         movie_title|release_date|video_release_date|            IMDb_URL|unknown|Action|Adventure|Animation|Children's|Comedy|Crime|Documentary|Drama|Fantasy|Film-Noir|Horror|Musical|Mystery|Romance|Sci-Fi|Thriller|War|Western|year_released|\n",
      "+--------+--------------------+------------+------------------+--------------------+-------+------+---------+---------+----------+------+-----+-----------+-----+-------+---------+------+-------+-------+-------+------+--------+---+-------+-------------+\n",
      "|       1|    Toy Story (1995)| 01-Jan-1995|              null|http://us.imdb.co...|      0|     0|        0|        1|         1|     1|    0|          0|    0|      0|        0|     0|      0|      0|      0|     0|       0|  0|      0|         1995|\n",
      "|       2|    GoldenEye (1995)| 01-Jan-1995|              null|http://us.imdb.co...|      0|     1|        1|        0|         0|     0|    0|          0|    0|      0|        0|     0|      0|      0|      0|     0|       1|  0|      0|         1995|\n",
      "|       3|   Four Rooms (1995)| 01-Jan-1995|              null|http://us.imdb.co...|      0|     0|        0|        0|         0|     0|    0|          0|    0|      0|        0|     0|      0|      0|      0|     0|       1|  0|      0|         1995|\n",
      "|       4|   Get Shorty (1995)| 01-Jan-1995|              null|http://us.imdb.co...|      0|     1|        0|        0|         0|     1|    0|          0|    1|      0|        0|     0|      0|      0|      0|     0|       0|  0|      0|         1995|\n",
      "|       5|      Copycat (1995)| 01-Jan-1995|              null|http://us.imdb.co...|      0|     0|        0|        0|         0|     0|    1|          0|    1|      0|        0|     0|      0|      0|      0|     0|       1|  0|      0|         1995|\n",
      "|       6|Shanghai Triad (Y...| 01-Jan-1995|              null|http://us.imdb.co...|      0|     0|        0|        0|         0|     0|    0|          0|    1|      0|        0|     0|      0|      0|      0|     0|       0|  0|      0|         1995|\n",
      "|       7|Twelve Monkeys (1...| 01-Jan-1995|              null|http://us.imdb.co...|      0|     0|        0|        0|         0|     0|    0|          0|    1|      0|        0|     0|      0|      0|      0|     1|       0|  0|      0|         1995|\n",
      "|       8|         Babe (1995)| 01-Jan-1995|              null|http://us.imdb.co...|      0|     0|        0|        0|         1|     1|    0|          0|    1|      0|        0|     0|      0|      0|      0|     0|       0|  0|      0|         1995|\n",
      "|       9|Dead Man Walking ...| 01-Jan-1995|              null|http://us.imdb.co...|      0|     0|        0|        0|         0|     0|    0|          0|    1|      0|        0|     0|      0|      0|      0|     0|       0|  0|      0|         1995|\n",
      "|      10|  Richard III (1995)| 22-Jan-1996|              null|http://us.imdb.co...|      0|     0|        0|        0|         0|     0|    0|          0|    1|      0|        0|     0|      0|      0|      0|     0|       0|  1|      0|         1996|\n",
      "|      11|Seven (Se7en) (1995)| 01-Jan-1995|              null|http://us.imdb.co...|      0|     0|        0|        0|         0|     0|    1|          0|    0|      0|        0|     0|      0|      0|      0|     0|       1|  0|      0|         1995|\n",
      "|      12|Usual Suspects, T...| 14-Aug-1995|              null|http://us.imdb.co...|      0|     0|        0|        0|         0|     0|    1|          0|    0|      0|        0|     0|      0|      0|      0|     0|       1|  0|      0|         1995|\n",
      "|      13|Mighty Aphrodite ...| 30-Oct-1995|              null|http://us.imdb.co...|      0|     0|        0|        0|         0|     1|    0|          0|    0|      0|        0|     0|      0|      0|      0|     0|       0|  0|      0|         1995|\n",
      "|      14|  Postino, Il (1994)| 01-Jan-1994|              null|http://us.imdb.co...|      0|     0|        0|        0|         0|     0|    0|          0|    1|      0|        0|     0|      0|      0|      1|     0|       0|  0|      0|         1994|\n",
      "|      15|Mr. Holland's Opu...| 29-Jan-1996|              null|http://us.imdb.co...|      0|     0|        0|        0|         0|     0|    0|          0|    1|      0|        0|     0|      0|      0|      0|     0|       0|  0|      0|         1996|\n",
      "|      16|French Twist (Gaz...| 01-Jan-1995|              null|http://us.imdb.co...|      0|     0|        0|        0|         0|     1|    0|          0|    0|      0|        0|     0|      0|      0|      1|     0|       0|  0|      0|         1995|\n",
      "|      17|From Dusk Till Da...| 05-Feb-1996|              null|http://us.imdb.co...|      0|     1|        0|        0|         0|     1|    1|          0|    0|      0|        0|     1|      0|      0|      0|     0|       1|  0|      0|         1996|\n",
      "|      18|White Balloon, Th...| 01-Jan-1995|              null|http://us.imdb.co...|      0|     0|        0|        0|         0|     0|    0|          0|    1|      0|        0|     0|      0|      0|      0|     0|       0|  0|      0|         1995|\n",
      "|      19|Antonia's Line (1...| 01-Jan-1995|              null|http://us.imdb.co...|      0|     0|        0|        0|         0|     0|    0|          0|    1|      0|        0|     0|      0|      0|      0|     0|       0|  0|      0|         1995|\n",
      "|      20|Angels and Insect...| 01-Jan-1995|              null|http://us.imdb.co...|      0|     0|        0|        0|         0|     0|    0|          0|    1|      0|        0|     0|      0|      0|      1|     0|       0|  0|      0|         1995|\n",
      "+--------+--------------------+------------+------------------+--------------------+-------+------+---------+---------+----------+------+-----+-----------+-----+-------+---------+------+-------+-------+-------+------+--------+---+-------+-------------+\n",
      "only showing top 20 rows\n",
      "\n"
     ]
    }
   ],
   "source": [
    "movies.show()"
   ]
  },
  {
   "cell_type": "markdown",
   "metadata": {},
   "source": [
    "Информация о каждом пользователе включает в себя возраст, пол, профессию и почтовый индекс."
   ]
  },
  {
   "cell_type": "code",
   "execution_count": 14,
   "metadata": {
    "scrolled": true
   },
   "outputs": [
    {
     "name": "stdout",
     "output_type": "stream",
     "text": [
      "+-------+---+------+-------------+--------+\n",
      "|user_id|age|gender|   occupation|zip_code|\n",
      "+-------+---+------+-------------+--------+\n",
      "|      1| 24|     M|   technician|   85711|\n",
      "|      2| 53|     F|        other|   94043|\n",
      "|      3| 23|     M|       writer|   32067|\n",
      "|      4| 24|     M|   technician|   43537|\n",
      "|      5| 33|     F|        other|   15213|\n",
      "|      6| 42|     M|    executive|   98101|\n",
      "|      7| 57|     M|administrator|   91344|\n",
      "|      8| 36|     M|administrator|   05201|\n",
      "|      9| 29|     M|      student|   01002|\n",
      "|     10| 53|     M|       lawyer|   90703|\n",
      "|     11| 39|     F|        other|   30329|\n",
      "|     12| 28|     F|        other|   06405|\n",
      "|     13| 47|     M|     educator|   29206|\n",
      "|     14| 45|     M|    scientist|   55106|\n",
      "|     15| 49|     F|     educator|   97301|\n",
      "|     16| 21|     M|entertainment|   10309|\n",
      "|     17| 30|     M|   programmer|   06355|\n",
      "|     18| 35|     F|        other|   37212|\n",
      "|     19| 40|     M|    librarian|   02138|\n",
      "|     20| 42|     F|    homemaker|   95660|\n",
      "+-------+---+------+-------------+--------+\n",
      "only showing top 20 rows\n",
      "\n"
     ]
    }
   ],
   "source": [
    "users = spark.read.csv('ml-100k/u.user', inferSchema=True, sep='|')\n",
    "names = ['user_id', 'age', 'gender', 'occupation', 'zip_code']\n",
    "for i in range(len(names)):\n",
    "    users = users.withColumnRenamed('_c'+str(i), names[i])\n",
    "users.show()"
   ]
  },
  {
   "cell_type": "code",
   "execution_count": 15,
   "metadata": {},
   "outputs": [],
   "source": [
    "stringIndexer = StringIndexer(inputCol=\"gender\", outputCol=\"indexed_gender\", handleInvalid='error')\n",
    "model = stringIndexer.fit(users)\n",
    "users = model.transform(users)\n",
    "encoder = OneHotEncoder(inputCol=\"indexed_gender\", outputCol='gender_feature')\n",
    "users = encoder.transform(users)\n",
    "\n",
    "stringIndexer = StringIndexer(inputCol=\"occupation\", outputCol=\"indexed_occupation\", handleInvalid='error')\n",
    "model = stringIndexer.fit(users)\n",
    "users = model.transform(users)\n",
    "encoder = OneHotEncoder(inputCol=\"indexed_occupation\", outputCol='occupation_feature')\n",
    "users = encoder.transform(users)"
   ]
  },
  {
   "cell_type": "code",
   "execution_count": 16,
   "metadata": {},
   "outputs": [
    {
     "name": "stdout",
     "output_type": "stream",
     "text": [
      "+-------+---+------+-------------+--------+--------------+--------------+------------------+------------------+\n",
      "|user_id|age|gender|   occupation|zip_code|indexed_gender|gender_feature|indexed_occupation|occupation_feature|\n",
      "+-------+---+------+-------------+--------+--------------+--------------+------------------+------------------+\n",
      "|      1| 24|     M|   technician|   85711|           0.0| (1,[0],[1.0])|              11.0|   (20,[11],[1.0])|\n",
      "|      2| 53|     F|        other|   94043|           1.0|     (1,[],[])|               1.0|    (20,[1],[1.0])|\n",
      "|      3| 23|     M|       writer|   32067|           0.0| (1,[0],[1.0])|               7.0|    (20,[7],[1.0])|\n",
      "|      4| 24|     M|   technician|   43537|           0.0| (1,[0],[1.0])|              11.0|   (20,[11],[1.0])|\n",
      "|      5| 33|     F|        other|   15213|           1.0|     (1,[],[])|               1.0|    (20,[1],[1.0])|\n",
      "|      6| 42|     M|    executive|   98101|           0.0| (1,[0],[1.0])|               8.0|    (20,[8],[1.0])|\n",
      "|      7| 57|     M|administrator|   91344|           0.0| (1,[0],[1.0])|               3.0|    (20,[3],[1.0])|\n",
      "|      8| 36|     M|administrator|   05201|           0.0| (1,[0],[1.0])|               3.0|    (20,[3],[1.0])|\n",
      "|      9| 29|     M|      student|   01002|           0.0| (1,[0],[1.0])|               0.0|    (20,[0],[1.0])|\n",
      "|     10| 53|     M|       lawyer|   90703|           0.0| (1,[0],[1.0])|              17.0|   (20,[17],[1.0])|\n",
      "|     11| 39|     F|        other|   30329|           1.0|     (1,[],[])|               1.0|    (20,[1],[1.0])|\n",
      "|     12| 28|     F|        other|   06405|           1.0|     (1,[],[])|               1.0|    (20,[1],[1.0])|\n",
      "|     13| 47|     M|     educator|   29206|           0.0| (1,[0],[1.0])|               2.0|    (20,[2],[1.0])|\n",
      "|     14| 45|     M|    scientist|   55106|           0.0| (1,[0],[1.0])|               9.0|    (20,[9],[1.0])|\n",
      "|     15| 49|     F|     educator|   97301|           1.0|     (1,[],[])|               2.0|    (20,[2],[1.0])|\n",
      "|     16| 21|     M|entertainment|   10309|           0.0| (1,[0],[1.0])|              13.0|   (20,[13],[1.0])|\n",
      "|     17| 30|     M|   programmer|   06355|           0.0| (1,[0],[1.0])|               5.0|    (20,[5],[1.0])|\n",
      "|     18| 35|     F|        other|   37212|           1.0|     (1,[],[])|               1.0|    (20,[1],[1.0])|\n",
      "|     19| 40|     M|    librarian|   02138|           0.0| (1,[0],[1.0])|               6.0|    (20,[6],[1.0])|\n",
      "|     20| 42|     F|    homemaker|   95660|           1.0|     (1,[],[])|              20.0|        (20,[],[])|\n",
      "+-------+---+------+-------------+--------+--------------+--------------+------------------+------------------+\n",
      "only showing top 20 rows\n",
      "\n"
     ]
    }
   ],
   "source": [
    "users.show()"
   ]
  },
  {
   "cell_type": "code",
   "execution_count": 17,
   "metadata": {},
   "outputs": [],
   "source": [
    "genres = ['unknown', 'Action', 'Adventure', 'Animation', \"Children's\", 'Comedy', 'Crime', 'Documentary', 'Drama', 'Fantasy', 'Film-Noir', 'Horror', 'Musical', 'Mystery', 'Romance', 'Sci-Fi', 'Thriller', 'War', 'Western']"
   ]
  },
  {
   "cell_type": "markdown",
   "metadata": {},
   "source": [
    "Для получения целостного датасета было принято решение собрать датафреймы с оценками и информацией о фильмах и пользователях в один."
   ]
  },
  {
   "cell_type": "code",
   "execution_count": 18,
   "metadata": {
    "scrolled": true
   },
   "outputs": [],
   "source": [
    "joined_df = ratings.join(users, [\"user_id\"], 'outer').drop('zip_code', 'timestamp')\n",
    "joined_df = joined_df.join(movies, [\"movie_id\"], 'outer').drop('movie_title', 'release_date', 'video_release_date', 'IMDb_URL')"
   ]
  },
  {
   "cell_type": "code",
   "execution_count": 19,
   "metadata": {},
   "outputs": [],
   "source": [
    "from pyspark.sql.functions import when"
   ]
  },
  {
   "cell_type": "code",
   "execution_count": 20,
   "metadata": {},
   "outputs": [],
   "source": [
    "joined_df = joined_df.withColumn('rated_released_year_diff', when(joined_df.year_rated - joined_df.year_released > 0, joined_df.year_rated - joined_df.year_released ).otherwise(0))"
   ]
  },
  {
   "cell_type": "code",
   "execution_count": 21,
   "metadata": {},
   "outputs": [
    {
     "name": "stdout",
     "output_type": "stream",
     "text": [
      "+--------+-------+------+----------+---+------+----------+--------------+--------------+------------------+------------------+-------+------+---------+---------+----------+------+-----+-----------+-----+-------+---------+------+-------+-------+-------+------+--------+---+-------+-------------+------------------------+\n",
      "|movie_id|user_id|rating|year_rated|age|gender|occupation|indexed_gender|gender_feature|indexed_occupation|occupation_feature|unknown|Action|Adventure|Animation|Children's|Comedy|Crime|Documentary|Drama|Fantasy|Film-Noir|Horror|Musical|Mystery|Romance|Sci-Fi|Thriller|War|Western|year_released|rated_released_year_diff|\n",
      "+--------+-------+------+----------+---+------+----------+--------------+--------------+------------------+------------------+-------+------+---------+---------+----------+------+-----+-----------+-----+-------+---------+------+-------+-------+-------+------+--------+---+-------+-------------+------------------------+\n",
      "|     148|    251|     2|      1998| 28|     M|    doctor|           0.0| (1,[0],[1.0])|              19.0|   (20,[19],[1.0])|      0|     1|        1|        0|         0|     0|    0|          0|    0|      0|        0|     0|      0|      0|      0|     0|       0|  0|      0|         1996|                       2|\n",
      "|     148|    580|     4|      1998| 16|     M|   student|           0.0| (1,[0],[1.0])|               0.0|    (20,[0],[1.0])|      0|     1|        1|        0|         0|     0|    0|          0|    0|      0|        0|     0|      0|      0|      0|     0|       0|  0|      0|         1996|                       2|\n",
      "|     148|    633|     1|      1997| 35|     M|programmer|           0.0| (1,[0],[1.0])|               5.0|    (20,[5],[1.0])|      0|     1|        1|        0|         0|     0|    0|          0|    0|      0|        0|     0|      0|      0|      0|     0|       0|  0|      0|         1996|                       1|\n",
      "|     148|    642|     5|      1998| 18|     F|   student|           1.0|     (1,[],[])|               0.0|    (20,[0],[1.0])|      0|     1|        1|        0|         0|     0|    0|          0|    0|      0|        0|     0|      0|      0|      0|     0|       0|  0|      0|         1996|                       2|\n",
      "|     148|    406|     3|      1997| 52|     M|  educator|           0.0| (1,[0],[1.0])|               2.0|    (20,[2],[1.0])|      0|     1|        1|        0|         0|     0|    0|          0|    0|      0|        0|     0|      0|      0|      0|     0|       0|  0|      0|         1996|                       1|\n",
      "|     148|     26|     3|      1998| 49|     M|  engineer|           0.0| (1,[0],[1.0])|               4.0|    (20,[4],[1.0])|      0|     1|        1|        0|         0|     0|    0|          0|    0|      0|        0|     0|      0|      0|      0|     0|       0|  0|      0|         1996|                       2|\n",
      "|     148|     27|     3|      1998| 40|     F| librarian|           1.0|     (1,[],[])|               6.0|    (20,[6],[1.0])|      0|     1|        1|        0|         0|     0|    0|          0|    0|      0|        0|     0|      0|      0|      0|     0|       0|  0|      0|         1996|                       2|\n",
      "|     148|    332|     5|      1998| 20|     M|   student|           0.0| (1,[0],[1.0])|               0.0|    (20,[0],[1.0])|      0|     1|        1|        0|         0|     0|    0|          0|    0|      0|        0|     0|      0|      0|      0|     0|       0|  0|      0|         1996|                       2|\n",
      "|     148|     44|     4|      1997| 26|     M|technician|           0.0| (1,[0],[1.0])|              11.0|   (20,[11],[1.0])|      0|     1|        1|        0|         0|     0|    0|          0|    0|      0|        0|     0|      0|      0|      0|     0|       0|  0|      0|         1996|                       1|\n",
      "|     148|    271|     3|      1998| 51|     M|  engineer|           0.0| (1,[0],[1.0])|               4.0|    (20,[4],[1.0])|      0|     1|        1|        0|         0|     0|    0|          0|    0|      0|        0|     0|      0|      0|      0|     0|       0|  0|      0|         1996|                       2|\n",
      "|     148|    606|     3|      1997| 28|     M|programmer|           0.0| (1,[0],[1.0])|               5.0|    (20,[5],[1.0])|      0|     1|        1|        0|         0|     0|    0|          0|    0|      0|        0|     0|      0|      0|      0|     0|       0|  0|      0|         1996|                       1|\n",
      "|     148|    916|     2|      1997| 27|     M|  engineer|           0.0| (1,[0],[1.0])|               4.0|    (20,[4],[1.0])|      0|     1|        1|        0|         0|     0|    0|          0|    0|      0|        0|     0|      0|      0|      0|     0|       0|  0|      0|         1996|                       1|\n",
      "|     148|    236|     4|      1998| 44|     F|    writer|           1.0|     (1,[],[])|               7.0|    (20,[7],[1.0])|      0|     1|        1|        0|         0|     0|    0|          0|    0|      0|        0|     0|      0|      0|      0|     0|       0|  0|      0|         1996|                       2|\n",
      "|     148|    602|     4|      1998| 47|     F|     other|           1.0|     (1,[],[])|               1.0|    (20,[1],[1.0])|      0|     1|        1|        0|         0|     0|    0|          0|    0|      0|        0|     0|      0|      0|      0|     0|       0|  0|      0|         1996|                       2|\n",
      "|     148|    663|     4|      1998| 26|     M|     other|           0.0| (1,[0],[1.0])|               1.0|    (20,[1],[1.0])|      0|     1|        1|        0|         0|     0|    0|          0|    0|      0|        0|     0|      0|      0|      0|     0|       0|  0|      0|         1996|                       2|\n",
      "|     148|    222|     2|      1997| 29|     M|programmer|           0.0| (1,[0],[1.0])|               5.0|    (20,[5],[1.0])|      0|     1|        1|        0|         0|     0|    0|          0|    0|      0|        0|     0|      0|      0|      0|     0|       0|  0|      0|         1996|                       1|\n",
      "|     148|    601|     3|      1997| 19|     F|    artist|           1.0|     (1,[],[])|              10.0|   (20,[10],[1.0])|      0|     1|        1|        0|         0|     0|    0|          0|    0|      0|        0|     0|      0|      0|      0|     0|       0|  0|      0|         1996|                       1|\n",
      "|     148|    330|     4|      1997| 35|     F|  educator|           1.0|     (1,[],[])|               2.0|    (20,[2],[1.0])|      0|     1|        1|        0|         0|     0|    0|          0|    0|      0|        0|     0|      0|      0|      0|     0|       0|  0|      0|         1996|                       1|\n",
      "|     148|    372|     5|      1997| 25|     F|   student|           1.0|     (1,[],[])|               0.0|    (20,[0],[1.0])|      0|     1|        1|        0|         0|     0|    0|          0|    0|      0|        0|     0|      0|      0|      0|     0|       0|  0|      0|         1996|                       1|\n",
      "|     148|    727|     2|      1998| 25|     M|   student|           0.0| (1,[0],[1.0])|               0.0|    (20,[0],[1.0])|      0|     1|        1|        0|         0|     0|    0|          0|    0|      0|        0|     0|      0|      0|      0|     0|       0|  0|      0|         1996|                       2|\n",
      "+--------+-------+------+----------+---+------+----------+--------------+--------------+------------------+------------------+-------+------+---------+---------+----------+------+-----+-----------+-----+-------+---------+------+-------+-------+-------+------+--------+---+-------+-------------+------------------------+\n",
      "only showing top 20 rows\n",
      "\n"
     ]
    }
   ],
   "source": [
    "joined_df.show()"
   ]
  },
  {
   "cell_type": "markdown",
   "metadata": {},
   "source": [
    "Категориальные значения (профессия, пол) были оформлены при помощи one-hot encoding."
   ]
  },
  {
   "cell_type": "code",
   "execution_count": 22,
   "metadata": {},
   "outputs": [
    {
     "name": "stdout",
     "output_type": "stream",
     "text": [
      "+--------+-------+------+----------+---+------+----------+--------------+--------------+------------------+------------------+-------+------+---------+---------+----------+------+-----+-----------+-----+-------+---------+------+-------+-------+-------+------+--------+---+-------+-------------+------------------------+\n",
      "|movie_id|user_id|rating|year_rated|age|gender|occupation|indexed_gender|gender_feature|indexed_occupation|occupation_feature|unknown|Action|Adventure|Animation|Children's|Comedy|Crime|Documentary|Drama|Fantasy|Film-Noir|Horror|Musical|Mystery|Romance|Sci-Fi|Thriller|War|Western|year_released|rated_released_year_diff|\n",
      "+--------+-------+------+----------+---+------+----------+--------------+--------------+------------------+------------------+-------+------+---------+---------+----------+------+-----+-----------+-----+-------+---------+------+-------+-------+-------+------+--------+---+-------+-------------+------------------------+\n",
      "|     148|    251|     2|      1998| 28|     M|    doctor|           0.0| (1,[0],[1.0])|              19.0|   (20,[19],[1.0])|      0|     1|        1|        0|         0|     0|    0|          0|    0|      0|        0|     0|      0|      0|      0|     0|       0|  0|      0|         1996|                       2|\n",
      "|     148|    580|     4|      1998| 16|     M|   student|           0.0| (1,[0],[1.0])|               0.0|    (20,[0],[1.0])|      0|     1|        1|        0|         0|     0|    0|          0|    0|      0|        0|     0|      0|      0|      0|     0|       0|  0|      0|         1996|                       2|\n",
      "|     148|    633|     1|      1997| 35|     M|programmer|           0.0| (1,[0],[1.0])|               5.0|    (20,[5],[1.0])|      0|     1|        1|        0|         0|     0|    0|          0|    0|      0|        0|     0|      0|      0|      0|     0|       0|  0|      0|         1996|                       1|\n",
      "|     148|    642|     5|      1998| 18|     F|   student|           1.0|     (1,[],[])|               0.0|    (20,[0],[1.0])|      0|     1|        1|        0|         0|     0|    0|          0|    0|      0|        0|     0|      0|      0|      0|     0|       0|  0|      0|         1996|                       2|\n",
      "|     148|    406|     3|      1997| 52|     M|  educator|           0.0| (1,[0],[1.0])|               2.0|    (20,[2],[1.0])|      0|     1|        1|        0|         0|     0|    0|          0|    0|      0|        0|     0|      0|      0|      0|     0|       0|  0|      0|         1996|                       1|\n",
      "|     148|     26|     3|      1998| 49|     M|  engineer|           0.0| (1,[0],[1.0])|               4.0|    (20,[4],[1.0])|      0|     1|        1|        0|         0|     0|    0|          0|    0|      0|        0|     0|      0|      0|      0|     0|       0|  0|      0|         1996|                       2|\n",
      "|     148|     27|     3|      1998| 40|     F| librarian|           1.0|     (1,[],[])|               6.0|    (20,[6],[1.0])|      0|     1|        1|        0|         0|     0|    0|          0|    0|      0|        0|     0|      0|      0|      0|     0|       0|  0|      0|         1996|                       2|\n",
      "|     148|    332|     5|      1998| 20|     M|   student|           0.0| (1,[0],[1.0])|               0.0|    (20,[0],[1.0])|      0|     1|        1|        0|         0|     0|    0|          0|    0|      0|        0|     0|      0|      0|      0|     0|       0|  0|      0|         1996|                       2|\n",
      "|     148|     44|     4|      1997| 26|     M|technician|           0.0| (1,[0],[1.0])|              11.0|   (20,[11],[1.0])|      0|     1|        1|        0|         0|     0|    0|          0|    0|      0|        0|     0|      0|      0|      0|     0|       0|  0|      0|         1996|                       1|\n",
      "|     148|    271|     3|      1998| 51|     M|  engineer|           0.0| (1,[0],[1.0])|               4.0|    (20,[4],[1.0])|      0|     1|        1|        0|         0|     0|    0|          0|    0|      0|        0|     0|      0|      0|      0|     0|       0|  0|      0|         1996|                       2|\n",
      "|     148|    606|     3|      1997| 28|     M|programmer|           0.0| (1,[0],[1.0])|               5.0|    (20,[5],[1.0])|      0|     1|        1|        0|         0|     0|    0|          0|    0|      0|        0|     0|      0|      0|      0|     0|       0|  0|      0|         1996|                       1|\n",
      "|     148|    916|     2|      1997| 27|     M|  engineer|           0.0| (1,[0],[1.0])|               4.0|    (20,[4],[1.0])|      0|     1|        1|        0|         0|     0|    0|          0|    0|      0|        0|     0|      0|      0|      0|     0|       0|  0|      0|         1996|                       1|\n",
      "|     148|    236|     4|      1998| 44|     F|    writer|           1.0|     (1,[],[])|               7.0|    (20,[7],[1.0])|      0|     1|        1|        0|         0|     0|    0|          0|    0|      0|        0|     0|      0|      0|      0|     0|       0|  0|      0|         1996|                       2|\n",
      "|     148|    602|     4|      1998| 47|     F|     other|           1.0|     (1,[],[])|               1.0|    (20,[1],[1.0])|      0|     1|        1|        0|         0|     0|    0|          0|    0|      0|        0|     0|      0|      0|      0|     0|       0|  0|      0|         1996|                       2|\n",
      "|     148|    663|     4|      1998| 26|     M|     other|           0.0| (1,[0],[1.0])|               1.0|    (20,[1],[1.0])|      0|     1|        1|        0|         0|     0|    0|          0|    0|      0|        0|     0|      0|      0|      0|     0|       0|  0|      0|         1996|                       2|\n",
      "|     148|    222|     2|      1997| 29|     M|programmer|           0.0| (1,[0],[1.0])|               5.0|    (20,[5],[1.0])|      0|     1|        1|        0|         0|     0|    0|          0|    0|      0|        0|     0|      0|      0|      0|     0|       0|  0|      0|         1996|                       1|\n",
      "|     148|    601|     3|      1997| 19|     F|    artist|           1.0|     (1,[],[])|              10.0|   (20,[10],[1.0])|      0|     1|        1|        0|         0|     0|    0|          0|    0|      0|        0|     0|      0|      0|      0|     0|       0|  0|      0|         1996|                       1|\n",
      "|     148|    330|     4|      1997| 35|     F|  educator|           1.0|     (1,[],[])|               2.0|    (20,[2],[1.0])|      0|     1|        1|        0|         0|     0|    0|          0|    0|      0|        0|     0|      0|      0|      0|     0|       0|  0|      0|         1996|                       1|\n",
      "|     148|    372|     5|      1997| 25|     F|   student|           1.0|     (1,[],[])|               0.0|    (20,[0],[1.0])|      0|     1|        1|        0|         0|     0|    0|          0|    0|      0|        0|     0|      0|      0|      0|     0|       0|  0|      0|         1996|                       1|\n",
      "|     148|    727|     2|      1998| 25|     M|   student|           0.0| (1,[0],[1.0])|               0.0|    (20,[0],[1.0])|      0|     1|        1|        0|         0|     0|    0|          0|    0|      0|        0|     0|      0|      0|      0|     0|       0|  0|      0|         1996|                       2|\n",
      "+--------+-------+------+----------+---+------+----------+--------------+--------------+------------------+------------------+-------+------+---------+---------+----------+------+-----+-----------+-----+-------+---------+------+-------+-------+-------+------+--------+---+-------+-------------+------------------------+\n",
      "only showing top 20 rows\n",
      "\n"
     ]
    }
   ],
   "source": [
    "\n",
    "\n",
    "# mmScaler = MinMaxScaler(inputCol=\"age\", outputCol=\"scaled_age\")\n",
    "# model = mmScaler.fit(joined_df)\n",
    "# model.transform(joined_df)\n",
    "\n",
    "# joined_df = joined_df.drop(\"user_id\", \"movie_id\", \"gender\", \"indexed_gender\", \"occupation\", \"indexed_occupation\", \"age\")\n",
    "# joined_df.show()\n",
    "joined_df.show()"
   ]
  },
  {
   "cell_type": "code",
   "execution_count": 23,
   "metadata": {},
   "outputs": [
    {
     "name": "stdout",
     "output_type": "stream",
     "text": [
      "+-------+------------+------------------+------------------+------------------+------------------+------------------+------------------+------------------+------------------+------------+-----------------+------------------+------------------+------------------+------------------+------------------+------------------+------------------+------------+\n",
      "|user_id|avg(unknown)|       avg(Action)|    avg(Adventure)|    avg(Animation)|   avg(Children's)|       avg(Comedy)|        avg(Crime)|  avg(Documentary)|        avg(Drama)|avg(Fantasy)|   avg(Film-Noir)|       avg(Horror)|      avg(Musical)|      avg(Mystery)|      avg(Romance)|       avg(Sci-Fi)|     avg(Thriller)|          avg(War)|avg(Western)|\n",
      "+-------+------------+------------------+------------------+------------------+------------------+------------------+------------------+------------------+------------------+------------+-----------------+------------------+------------------+------------------+------------------+------------------+------------------+------------------+------------+\n",
      "|    148|         0.0|3.9166666666666665| 3.933333333333333| 4.428571428571429|               3.8|              4.45|3.6666666666666665|               0.0|              3.68|         0.0|              5.0|               2.0| 4.454545454545454|               3.0| 4.333333333333333| 4.461538461538462|               3.6|               4.1|         2.0|\n",
      "|    463|         0.0| 2.761904761904762|               2.4|               2.2|2.0588235294117645|              2.46|               3.5|               4.0| 3.406779661016949|         2.5|              5.0|               1.0|1.8571428571428572| 4.666666666666667|3.2857142857142856|3.3333333333333335|2.7058823529411766|2.5555555555555554|         0.0|\n",
      "|    471|         0.0|               4.0| 3.857142857142857|            2.6875|3.3461538461538463| 4.416666666666667|               0.0|               0.0|3.3333333333333335|         0.0|              0.0|               0.0| 2.111111111111111|               4.0|               4.0|               4.0|               0.0|               3.5|         0.0|\n",
      "|    496|         0.0|           3.09375|2.7916666666666665|             3.125| 2.380952380952381|              2.75|3.6666666666666665|               0.0|3.2115384615384617|         3.0|              4.0|3.3333333333333335|2.6666666666666665|2.7142857142857144|3.6818181818181817|              3.12|               2.8|              4.25|         2.0|\n",
      "|    833|         1.0| 2.736111111111111| 2.533333333333333|               4.0|               4.0| 2.753846153846154|3.3714285714285714|               4.0|3.3092783505154637|         3.0|4.111111111111111|               3.0|               2.4|               3.1|2.6153846153846154|2.8085106382978724|2.9722222222222223|3.3181818181818183|         4.0|\n",
      "|    243|         0.0|3.6666666666666665|              3.75|               4.0|3.6666666666666665|3.5555555555555554|3.3333333333333335|               4.0|3.6271186440677967|         3.0|              0.0|               4.0|               0.0|               5.0| 3.423076923076923|               3.0|              3.25|               4.0|         4.0|\n",
      "|    392|         0.0|               3.6| 4.166666666666667|               3.8|               4.0| 4.071428571428571|4.2727272727272725|               4.0| 4.298245614035087|         0.0|4.666666666666667|               3.5|               4.5|3.5555555555555554|               4.0|3.3636363636363638| 3.736842105263158| 4.090909090909091|         4.0|\n",
      "|    540|         0.0|3.6842105263157894|             3.875|               3.2|              3.25|             3.625|               4.0|               0.0|3.7857142857142856|         3.0|              0.0|               4.0|               3.5|               3.5|3.8181818181818183|3.9166666666666665|             3.625| 3.857142857142857|         0.0|\n",
      "|    623|         0.0|               4.0| 4.333333333333333|               0.0|               0.0| 3.789473684210526|              3.75|               0.0|3.5833333333333335|         0.0|              3.5|               3.0|3.3333333333333335|               4.0| 3.823529411764706|               3.9|             3.375|               4.0|         5.0|\n",
      "|    737|         0.0|              3.75|               3.0|               2.5|               1.0|               4.0|               4.5|               4.0|              4.25|         0.0|              4.0|               0.0|               3.0|               0.0|               4.0|               4.0|               3.8| 4.333333333333333|         0.0|\n",
      "|    858|         0.0|3.6666666666666665|               2.5|               0.0|               0.0|               4.0|3.5714285714285716|               0.0|3.4166666666666665|         0.0|              0.0|               3.0|               3.0|               3.5|               3.0|               2.0|             3.125|              3.25|         0.0|\n",
      "|    897|         0.0| 4.192982456140351| 4.085714285714285| 4.181818181818182| 4.038461538461538| 3.767857142857143|3.4166666666666665|               0.0| 3.890909090909091|         4.4|              4.0| 4.571428571428571|               4.2| 4.166666666666667|            3.9375| 4.178571428571429|              3.95|              4.25|         4.0|\n",
      "|     31|         0.0|               3.4|               4.0|               0.0|               0.0|               4.2|              4.25| 4.666666666666667|3.8461538461538463|         0.0|             4.25|               2.0|               4.5|3.6666666666666665|               3.6| 4.333333333333333| 3.111111111111111|               4.0|         0.0|\n",
      "|    516|         0.0|               4.0|               4.0|               5.0|               0.0|               4.2| 4.333333333333333|               0.0|3.9166666666666665|         0.0|              0.0|               0.0|               3.0|               4.5|              4.75|               4.4|               5.0| 4.142857142857143|         0.0|\n",
      "|     85|         0.0|3.4130434782608696|              3.25|               3.6|3.5217391304347827|3.5402298850574714|3.8181818181818183|               3.5|3.5526315789473686|         3.5|              4.0|               4.0|3.7916666666666665|               3.5| 3.769230769230769|3.6538461538461537| 3.310344827586207| 3.757575757575758|       3.375|\n",
      "|    137|         0.0| 4.857142857142857| 4.928571428571429|               3.0|              3.75|               4.0|               4.5|               0.0|3.3333333333333335|         4.0|              5.0|               5.0|               3.0|               4.0|4.2727272727272725| 4.857142857142857| 4.785714285714286|               4.0|         1.0|\n",
      "|    251|         0.0|3.7419354838709675| 3.764705882352941|3.6666666666666665|               4.2|              3.75|               3.6|               3.0| 4.130434782608695|         3.0|              0.0| 4.666666666666667|               4.0|               2.5|              3.75|3.9285714285714284| 3.769230769230769| 4.428571428571429|         0.0|\n",
      "|    451|         0.0| 3.176470588235294|2.5714285714285716|               1.0|              2.25|2.6538461538461537|               3.0|2.6666666666666665| 2.473684210526316|         1.0|              2.0|               3.0|1.3333333333333333|3.8181818181818183| 2.823529411764706|               3.4| 3.586206896551724|2.8333333333333335|         0.0|\n",
      "|    580|         0.0|3.4545454545454546|3.8181818181818183|               3.0|               2.5|3.5833333333333335|               3.0|               0.0|3.5833333333333335|         0.0|              0.0| 4.666666666666667|               5.0|               2.0|3.7142857142857144| 4.461538461538462|            3.0625| 4.142857142857143|         0.0|\n",
      "|    808|         0.0|3.8333333333333335|               3.0|               0.0|               0.0|               4.0|               4.4|               0.0| 4.153846153846154|         0.0|              5.0|               3.0|               0.0|              4.25| 4.166666666666667|               4.0| 3.727272727272727|3.6666666666666665|         0.0|\n",
      "+-------+------------+------------------+------------------+------------------+------------------+------------------+------------------+------------------+------------------+------------+-----------------+------------------+------------------+------------------+------------------+------------------+------------------+------------------+------------+\n",
      "only showing top 20 rows\n",
      "\n"
     ]
    }
   ],
   "source": [
    "avg_ratings_df = joined_df.select(['user_id', 'rating']  + genres)\n",
    "\n",
    "for genre in genres:\n",
    "    avg_ratings_df = avg_ratings_df.withColumn('rating {}'.format(genre), avg_ratings_df[genre] * avg_ratings_df.rating)\n",
    "\n",
    "genre_ratings = list(map(lambda genre: 'rating {}'.format(genre), genres))\n",
    "df1 = avg_ratings_df.groupBy('user_id').sum(*genres)\n",
    "df2 = avg_ratings_df.groupBy('user_id').sum(*genre_ratings)\n",
    "\n",
    "avg_ratings_df = df1.join(df2, ['user_id'])\n",
    "for genre in genres:\n",
    "    sum_rating_col = 'sum(rating {})'.format(genre)\n",
    "    count_col = 'sum({})'.format(genre)\n",
    "    avg_ratings_df = avg_ratings_df.withColumn('avg({})'\n",
    "                                   .format(genre), avg_ratings_df[sum_rating_col] / avg_ratings_df[count_col])\n",
    "    avg_ratings_df = avg_ratings_df.drop(sum_rating_col, count_col)\n",
    "\n",
    "avg_ratings_df = avg_ratings_df.fillna(value=0)\n",
    "avg_ratings_df.show()\n",
    "avg_ratings_df.toPandas().to_csv('~/avg_ratings.csv')"
   ]
  },
  {
   "cell_type": "code",
   "execution_count": 24,
   "metadata": {},
   "outputs": [
    {
     "name": "stdout",
     "output_type": "stream",
     "text": [
      "+--------+------------------+\n",
      "|movie_id|       avg(rating)|\n",
      "+--------+------------------+\n",
      "|     496| 4.121212121212121|\n",
      "|     471|3.6108597285067874|\n",
      "|     463| 3.859154929577465|\n",
      "|     148|          3.203125|\n",
      "|    1342|               2.5|\n",
      "|     833| 3.204081632653061|\n",
      "|    1088| 2.230769230769231|\n",
      "|    1591|3.1666666666666665|\n",
      "|    1238|             3.125|\n",
      "|    1580|               1.0|\n",
      "|    1645|               4.0|\n",
      "|     392|3.5441176470588234|\n",
      "|     623| 2.923076923076923|\n",
      "|     540| 2.511627906976744|\n",
      "|     858|               1.0|\n",
      "|     737| 2.983050847457627|\n",
      "|     243|2.4393939393939394|\n",
      "|    1025|2.9318181818181817|\n",
      "|    1084| 3.857142857142857|\n",
      "|    1127| 2.909090909090909|\n",
      "+--------+------------------+\n",
      "only showing top 20 rows\n",
      "\n"
     ]
    }
   ],
   "source": [
    "average_movie_rating = ratings.select('movie_id', 'rating')\n",
    "average_movie_rating = average_movie_rating.groupBy('movie_id').avg('rating')\n",
    "\n",
    "average_movie_rating.toPandas().to_csv('~/average_movie_rating.csv')\n",
    "average_movie_rating.show()"
   ]
  },
  {
   "cell_type": "code",
   "execution_count": 25,
   "metadata": {},
   "outputs": [
    {
     "name": "stdout",
     "output_type": "stream",
     "text": [
      "+--------+----------+\n",
      "|movie_id|popularity|\n",
      "+--------+----------+\n",
      "|     148|       128|\n",
      "|     463|        71|\n",
      "|     471|       221|\n",
      "|     496|       231|\n",
      "|     833|        49|\n",
      "|    1088|        13|\n",
      "|    1238|         8|\n",
      "|    1342|         2|\n",
      "|    1580|         1|\n",
      "|    1591|         6|\n",
      "|    1645|         1|\n",
      "|     243|       132|\n",
      "|     392|        68|\n",
      "|     540|        43|\n",
      "|     623|        39|\n",
      "|     737|        59|\n",
      "|     858|         3|\n",
      "|     897|         2|\n",
      "|    1025|        44|\n",
      "|    1084|        21|\n",
      "+--------+----------+\n",
      "only showing top 20 rows\n",
      "\n"
     ]
    }
   ],
   "source": [
    "popularity = joined_df.select('movie_id')\n",
    "popularity = popularity.groupBy('movie_id').count()\n",
    "popularity = popularity.withColumnRenamed('count', 'popularity').fillna(0)\n",
    "\n",
    "popularity.toPandas().to_csv('~/movie_popularity.csv')\n",
    "popularity.show()"
   ]
  },
  {
   "cell_type": "code",
   "execution_count": 26,
   "metadata": {},
   "outputs": [],
   "source": [
    "joined_df = joined_df.join(average_movie_rating, 'movie_id')"
   ]
  },
  {
   "cell_type": "code",
   "execution_count": 27,
   "metadata": {},
   "outputs": [],
   "source": [
    "joined_df = joined_df.join(popularity, ['movie_id'])"
   ]
  },
  {
   "cell_type": "code",
   "execution_count": null,
   "metadata": {},
   "outputs": [],
   "source": []
  },
  {
   "cell_type": "code",
   "execution_count": 28,
   "metadata": {},
   "outputs": [],
   "source": [
    "joined_df = joined_df.join(avg_ratings_df, ['user_id'])\n",
    "final_df = joined_df.drop(\"gender\", \"indexed_gender\", \"occupation\", \"indexed_occupation\", \"age\")"
   ]
  },
  {
   "cell_type": "code",
   "execution_count": 29,
   "metadata": {},
   "outputs": [],
   "source": [
    "# joined_df.popularity"
   ]
  },
  {
   "cell_type": "code",
   "execution_count": 30,
   "metadata": {},
   "outputs": [],
   "source": [
    "from pyspark.ml.regression import RandomForestRegressor\n",
    "from pyspark.ml.feature import VectorAssembler\n",
    "from pyspark.ml.classification import NaiveBayes"
   ]
  },
  {
   "cell_type": "code",
   "execution_count": 31,
   "metadata": {},
   "outputs": [
    {
     "name": "stdout",
     "output_type": "stream",
     "text": [
      "['year_rated', 'gender_feature', 'occupation_feature', 'unknown', 'Action', 'Adventure', 'Animation', \"Children's\", 'Comedy', 'Crime', 'Documentary', 'Drama', 'Fantasy', 'Film-Noir', 'Horror', 'Musical', 'Mystery', 'Romance', 'Sci-Fi', 'Thriller', 'War', 'Western', 'year_released', 'rated_released_year_diff', 'avg(rating)', 'popularity', 'avg(unknown)', 'avg(Action)', 'avg(Adventure)', 'avg(Animation)', \"avg(Children's)\", 'avg(Comedy)', 'avg(Crime)', 'avg(Documentary)', 'avg(Drama)', 'avg(Fantasy)', 'avg(Film-Noir)', 'avg(Horror)', 'avg(Musical)', 'avg(Mystery)', 'avg(Romance)', 'avg(Sci-Fi)', 'avg(Thriller)', 'avg(War)', 'avg(Western)']\n"
     ]
    }
   ],
   "source": [
    "answer_col = 'rating'\n",
    "features_col = 'features'\n",
    "input_cols = [col for col in final_df.columns if col not in [answer_col, \"user_id\", \"movie_id\"]]\n",
    "assembler = VectorAssembler(inputCols=input_cols, outputCol=features_col)\n",
    "\n",
    "print(input_cols)"
   ]
  },
  {
   "cell_type": "code",
   "execution_count": 32,
   "metadata": {},
   "outputs": [
    {
     "name": "stdout",
     "output_type": "stream",
     "text": [
      "+------+--------------------------------------------------------------------------------------------------------------------------------------------------------------------------------------------------------------------------------------------------------------------------------------------------------------------------------+-------+--------+\n",
      "|rating|features                                                                                                                                                                                                                                                                                                                        |user_id|movie_id|\n",
      "+------+--------------------------------------------------------------------------------------------------------------------------------------------------------------------------------------------------------------------------------------------------------------------------------------------------------------------------------+-------+--------+\n",
      "|3     |(64,[0,1,6,30,41,42,43,44,46,47,48,49,50,51,53,55,56,57,58,59,60,61,62,63],[1997.0,1.0,1.0,1.0,1946.0,51.0,4.121212121212121,231.0,3.9166666666666665,3.933333333333333,4.428571428571429,3.8,4.45,3.6666666666666665,3.68,5.0,2.0,4.454545454545454,3.0,4.333333333333333,4.461538461538462,3.6,4.1,2.0])                      |148    |496     |\n",
      "|4     |(64,[0,1,6,25,26,34,41,42,43,44,46,47,48,49,50,51,53,55,56,57,58,59,60,61,62,63],[1997.0,1.0,1.0,1.0,1.0,1.0,1991.0,6.0,3.792079207920792,202.0,3.9166666666666665,3.933333333333333,4.428571428571429,3.8,4.45,3.6666666666666665,3.68,5.0,2.0,4.454545454545454,3.0,4.333333333333333,4.461538461538462,3.6,4.1,2.0])         |148    |588     |\n",
      "|5     |(64,[0,1,6,30,36,39,41,42,43,44,46,47,48,49,50,51,53,55,56,57,58,59,60,61,62,63],[1997.0,1.0,1.0,1.0,1.0,1.0,1939.0,58.0,3.871345029239766,171.0,3.9166666666666665,3.933333333333333,4.428571428571429,3.8,4.45,3.6666666666666665,3.68,5.0,2.0,4.454545454545454,3.0,4.333333333333333,4.461538461538462,3.6,4.1,2.0])        |148    |133     |\n",
      "|1     |(64,[0,1,6,24,26,30,41,42,43,44,46,47,48,49,50,51,53,55,56,57,58,59,60,61,62,63],[1997.0,1.0,1.0,1.0,1.0,1.0,1993.0,4.0,2.4545454545454546,33.0,3.9166666666666665,3.933333333333333,4.428571428571429,3.8,4.45,3.6666666666666665,3.68,5.0,2.0,4.454545454545454,3.0,4.333333333333333,4.461538461538462,3.6,4.1,2.0])         |148    |78      |\n",
      "|5     |(64,[0,1,6,25,26,34,41,42,43,44,46,47,48,49,50,51,53,55,56,57,58,59,60,61,62,63],[1997.0,1.0,1.0,1.0,1.0,1.0,1996.0,1.0,3.377952755905512,127.0,3.9166666666666665,3.933333333333333,4.428571428571429,3.8,4.45,3.6666666666666665,3.68,5.0,2.0,4.454545454545454,3.0,4.333333333333333,4.461538461538462,3.6,4.1,2.0])         |148    |596     |\n",
      "|4     |(64,[0,1,6,25,26,34,41,42,43,44,46,47,48,49,50,51,53,55,56,57,58,59,60,61,62,63],[1997.0,1.0,1.0,1.0,1.0,1.0,1941.0,56.0,3.4959349593495936,123.0,3.9166666666666665,3.933333333333333,4.428571428571429,3.8,4.45,3.6666666666666665,3.68,5.0,2.0,4.454545454545454,3.0,4.333333333333333,4.461538461538462,3.6,4.1,2.0])       |148    |501     |\n",
      "|5     |(64,[0,1,6,27,41,42,43,44,46,47,48,49,50,51,53,55,56,57,58,59,60,61,62,63],[1997.0,1.0,1.0,1.0,1979.0,18.0,3.9051724137931036,116.0,3.9166666666666665,3.933333333333333,4.428571428571429,3.8,4.45,3.6666666666666665,3.68,5.0,2.0,4.454545454545454,3.0,4.333333333333333,4.461538461538462,3.6,4.1,2.0])                     |148    |663     |\n",
      "|4     |(64,[0,1,6,23,24,37,41,42,43,44,46,47,48,49,50,51,53,55,56,57,58,59,60,61,62,63],[1997.0,1.0,1.0,1.0,1.0,1.0,1996.0,1.0,3.66027397260274,365.0,3.9166666666666665,3.933333333333333,4.428571428571429,3.8,4.45,3.6666666666666665,3.68,5.0,2.0,4.454545454545454,3.0,4.333333333333333,4.461538461538462,3.6,4.1,2.0])          |148    |222     |\n",
      "|5     |(64,[0,1,6,27,30,34,41,42,43,44,46,47,48,49,50,51,53,55,56,57,58,59,60,61,62,63],[1997.0,1.0,1.0,1.0,1.0,1.0,1984.0,13.0,3.905759162303665,191.0,3.9166666666666665,3.933333333333333,4.428571428571429,3.8,4.45,3.6666666666666665,3.68,5.0,2.0,4.454545454545454,3.0,4.333333333333333,4.461538461538462,3.6,4.1,2.0])        |148    |209     |\n",
      "|2     |(64,[0,1,6,30,39,41,42,43,44,46,47,48,49,50,51,53,55,56,57,58,59,60,61,62,63],[1997.0,1.0,1.0,1.0,1.0,1989.0,8.0,4.137096774193548,124.0,3.9166666666666665,3.933333333333333,4.428571428571429,3.8,4.45,3.6666666666666665,3.68,5.0,2.0,4.454545454545454,3.0,4.333333333333333,4.461538461538462,3.6,4.1,2.0])                |148    |190     |\n",
      "|1     |(64,[0,1,6,24,26,41,42,43,44,46,47,48,49,50,51,53,55,56,57,58,59,60,61,62,63],[1997.0,1.0,1.0,1.0,1.0,1993.0,4.0,3.2131147540983607,61.0,3.9166666666666665,3.933333333333333,4.428571428571429,3.8,4.45,3.6666666666666665,3.68,5.0,2.0,4.454545454545454,3.0,4.333333333333333,4.461538461538462,3.6,4.1,2.0])                |148    |140     |\n",
      "|2     |(64,[0,1,6,23,40,41,42,43,44,46,47,48,49,50,51,53,55,56,57,58,59,60,61,62,63],[1997.0,1.0,1.0,1.0,1.0,1966.0,31.0,3.8613138686131387,137.0,3.9166666666666665,3.933333333333333,4.428571428571429,3.8,4.45,3.6666666666666665,3.68,5.0,2.0,4.454545454545454,3.0,4.333333333333333,4.461538461538462,3.6,4.1,2.0])              |148    |177     |\n",
      "|4     |(64,[0,1,6,24,26,30,34,41,42,43,44,46,47,48,49,50,51,53,55,56,57,58,59,60,61,62,63],[1997.0,1.0,1.0,1.0,1.0,1.0,1.0,1939.0,58.0,4.0772357723577235,246.0,3.9166666666666665,3.933333333333333,4.428571428571429,3.8,4.45,3.6666666666666665,3.68,5.0,2.0,4.454545454545454,3.0,4.333333333333333,4.461538461538462,3.6,4.1,2.0])|148    |132     |\n",
      "|1     |(64,[0,1,6,33,36,38,41,42,43,44,46,47,48,49,50,51,53,55,56,57,58,59,60,61,62,63],[1997.0,1.0,1.0,1.0,1.0,1.0,1960.0,37.0,4.100418410041841,239.0,3.9166666666666665,3.933333333333333,4.428571428571429,3.8,4.45,3.6666666666666665,3.68,5.0,2.0,4.454545454545454,3.0,4.333333333333333,4.461538461538462,3.6,4.1,2.0])        |148    |185     |\n",
      "|5     |(64,[0,1,6,25,26,34,41,42,43,44,46,47,48,49,50,51,53,55,56,57,58,59,60,61,62,63],[1997.0,1.0,1.0,1.0,1.0,1.0,1996.0,1.0,3.126984126984127,126.0,3.9166666666666665,3.933333333333333,4.428571428571429,3.8,4.45,3.6666666666666665,3.68,5.0,2.0,4.454545454545454,3.0,4.333333333333333,4.461538461538462,3.6,4.1,2.0])         |148    |473     |\n",
      "|4     |(64,[0,1,6,25,26,27,41,42,43,44,46,47,48,49,50,51,53,55,56,57,58,59,60,61,62,63],[1997.0,1.0,1.0,1.0,1.0,1.0,1995.0,2.0,3.8783185840707963,452.0,3.9166666666666665,3.933333333333333,4.428571428571429,3.8,4.45,3.6666666666666665,3.68,5.0,2.0,4.454545454545454,3.0,4.333333333333333,4.461538461538462,3.6,4.1,2.0])        |148    |1       |\n",
      "|5     |(64,[0,1,6,37,39,41,42,43,44,46,47,48,49,50,51,53,55,56,57,58,59,60,61,62,63],[1997.0,1.0,1.0,1.0,1.0,1963.0,34.0,4.252577319587629,194.0,3.9166666666666665,3.933333333333333,4.428571428571429,3.8,4.45,3.6666666666666665,3.68,5.0,2.0,4.454545454545454,3.0,4.333333333333333,4.461538461538462,3.6,4.1,2.0])               |148    |474     |\n",
      "|5     |(64,[0,1,6,27,41,42,43,44,46,47,48,49,50,51,53,55,56,57,58,59,60,61,62,63],[1997.0,1.0,1.0,1.0,1974.0,23.0,4.0664556962025316,316.0,3.9166666666666665,3.933333333333333,4.428571428571429,3.8,4.45,3.6666666666666665,3.68,5.0,2.0,4.454545454545454,3.0,4.333333333333333,4.461538461538462,3.6,4.1,2.0])                     |148    |168     |\n",
      "|4     |(64,[0,1,6,23,24,37,38,41,42,43,44,46,47,48,49,50,51,53,55,56,57,58,59,60,61,62,63],[1997.0,1.0,1.0,1.0,1.0,1.0,1.0,1989.0,8.0,3.589403973509934,151.0,3.9166666666666665,3.933333333333333,4.428571428571429,3.8,4.45,3.6666666666666665,3.68,5.0,2.0,4.454545454545454,3.0,4.333333333333333,4.461538461538462,3.6,4.1,2.0])  |148    |164     |\n",
      "|5     |(64,[0,1,6,25,27,41,42,43,44,46,47,48,49,50,51,53,55,56,57,58,59,60,61,62,63],[1997.0,1.0,1.0,1.0,1.0,1993.0,4.0,4.466101694915254,118.0,3.9166666666666665,3.933333333333333,4.428571428571429,3.8,4.45,3.6666666666666665,3.68,5.0,2.0,4.454545454545454,3.0,4.333333333333333,4.461538461538462,3.6,4.1,2.0])                |148    |169     |\n",
      "+------+--------------------------------------------------------------------------------------------------------------------------------------------------------------------------------------------------------------------------------------------------------------------------------------------------------------------------------+-------+--------+\n",
      "only showing top 20 rows\n",
      "\n"
     ]
    }
   ],
   "source": [
    "data = assembler.setHandleInvalid(\"skip\").transform(final_df)\n",
    "data = data.select(answer_col,features_col, 'user_id', 'movie_id')\n",
    "data.show(truncate=False)"
   ]
  },
  {
   "cell_type": "code",
   "execution_count": 41,
   "metadata": {},
   "outputs": [],
   "source": [
    "import numpy as np"
   ]
  },
  {
   "cell_type": "code",
   "execution_count": 126,
   "metadata": {},
   "outputs": [],
   "source": [
    "# kmapper_data = np.array(final_df.collect())\n",
    "kmapper_data = np.array(data.select(features_col).collect())"
   ]
  },
  {
   "cell_type": "code",
   "execution_count": 127,
   "metadata": {},
   "outputs": [
    {
     "name": "stdout",
     "output_type": "stream",
     "text": [
      "[[1.99700000e+03 1.00000000e+00 0.00000000e+00 0.00000000e+00\n",
      "  0.00000000e+00 0.00000000e+00 1.00000000e+00 0.00000000e+00\n",
      "  0.00000000e+00 0.00000000e+00 0.00000000e+00 0.00000000e+00\n",
      "  0.00000000e+00 0.00000000e+00 0.00000000e+00 0.00000000e+00\n",
      "  0.00000000e+00 0.00000000e+00 0.00000000e+00 0.00000000e+00\n",
      "  0.00000000e+00 0.00000000e+00 0.00000000e+00 0.00000000e+00\n",
      "  0.00000000e+00 0.00000000e+00 0.00000000e+00 0.00000000e+00\n",
      "  0.00000000e+00 0.00000000e+00 1.00000000e+00 0.00000000e+00\n",
      "  0.00000000e+00 0.00000000e+00 0.00000000e+00 0.00000000e+00\n",
      "  0.00000000e+00 0.00000000e+00 0.00000000e+00 0.00000000e+00\n",
      "  0.00000000e+00 1.94600000e+03 5.10000000e+01 4.12121212e+00\n",
      "  2.31000000e+02 0.00000000e+00 3.91666667e+00 3.93333333e+00\n",
      "  4.42857143e+00 3.80000000e+00 4.45000000e+00 3.66666667e+00\n",
      "  0.00000000e+00 3.68000000e+00 0.00000000e+00 5.00000000e+00\n",
      "  2.00000000e+00 4.45454545e+00 3.00000000e+00 4.33333333e+00\n",
      "  4.46153846e+00 3.60000000e+00 4.10000000e+00 2.00000000e+00]]\n",
      "(99991, 64)\n"
     ]
    }
   ],
   "source": [
    "print(kmapper_data[0])\n",
    "print(np.shape(kmapper_data.reshape(-1, 64)))\n",
    "kmapper_data = kmapper_data.reshape(-1, 64)"
   ]
  },
  {
   "cell_type": "code",
   "execution_count": 128,
   "metadata": {},
   "outputs": [],
   "source": [
    "custom_tooltips = np.array(data.join(movies, [\"movie_id\"], 'inner').select('movie_title').collect()).reshape(-1)"
   ]
  },
  {
   "cell_type": "code",
   "execution_count": 129,
   "metadata": {},
   "outputs": [
    {
     "name": "stdout",
     "output_type": "stream",
     "text": [
      "(99991,)\n"
     ]
    }
   ],
   "source": [
    "print(np.shape(custom_tooltips))"
   ]
  },
  {
   "cell_type": "code",
   "execution_count": 130,
   "metadata": {},
   "outputs": [],
   "source": [
    "# Import the class\n",
    "import umap\n",
    "import kmapper as km\n",
    "from kmapper import jupyter\n",
    "\n",
    "# Some sample data\n",
    "import sklearn\n",
    "from sklearn import datasets"
   ]
  },
  {
   "cell_type": "code",
   "execution_count": null,
   "metadata": {},
   "outputs": [],
   "source": []
  },
  {
   "cell_type": "code",
   "execution_count": 185,
   "metadata": {},
   "outputs": [],
   "source": [
    "def visualize(data, custom_tooltips, items_count=100, filename=\"movies.html\", title=\"MOVIES\", show=True):\n",
    "    # Initialize\n",
    "    mapper = km.KeplerMapper(verbose=1)\n",
    "\n",
    "    # Fit to and transform the data\n",
    "    projected_data = mapper.fit_transform(data[:items_count], projection=umap.UMAP(n_neighbors=8,\n",
    "                                                                     min_dist=0.65,\n",
    "                                                                     n_components=2,\n",
    "                                                                     metric='euclidean',\n",
    "                                                                     random_state=3571))\n",
    "\n",
    "    # Create dictionary called 'graph' with nodes, edges and meta-information\n",
    "    graph = mapper.map(projected_data, clusterer=sklearn.cluster.DBSCAN(eps=0.3, min_samples=15),\n",
    "                          cover=km.Cover(35, 0.9), remove_duplicate_nodes=True)\n",
    "\n",
    "    # Visualize it\n",
    "    html = mapper.visualize(graph, path_html=filename,\n",
    "                     title=title, custom_tooltips=custom_tooltips[:items_count])\n",
    "\n",
    "    # Inline display\n",
    "    # jupyter.display(path_html=\"http://mlwave.github.io/tda/word2vec-gender-bias.html\")\n",
    "    if show:\n",
    "        jupyter.display(path_html=filename)"
   ]
  },
  {
   "cell_type": "code",
   "execution_count": 148,
   "metadata": {},
   "outputs": [
    {
     "name": "stdout",
     "output_type": "stream",
     "text": [
      "KeplerMapper()\n",
      "..Composing projection pipeline of length 1:\n",
      "\tProjections: UMAP(a=None, angular_rp_forest=False, b=None, init='spectral',\n",
      "   learning_rate=1.0, local_connectivity=1.0, metric='euclidean',\n",
      "   metric_kwds=None, min_dist=0.65, n_components=2, n_epochs=None,\n",
      "   n_neighbors=8, negative_sample_rate=5, random_state=3571,\n",
      "   repulsion_strength=1.0, set_op_mix_ratio=1.0, spread=1.0,\n",
      "   target_metric='categorical', target_metric_kwds=None,\n",
      "   target_n_neighbors=-1, target_weight=0.5, transform_queue_size=4.0,\n",
      "   transform_seed=42, verbose=False)\n",
      "\tDistance matrices: False\n",
      "\tScalers: MinMaxScaler(copy=True, feature_range=(0, 1))\n",
      "..Projecting on data shaped (50, 64)\n",
      "\n",
      "..Projecting data using: \n",
      "\tUMAP(a=None, angular_rp_forest=False, b=None, init='spectral',\n",
      "   learning_rate=1.0, local_connectivity=1.0, metric='euclidean',\n",
      "   metric_kwds=None, min_dist=0.65, n_components=2, n_epochs=None,\n",
      "   n_neighbors=8, negative_sample_rate=5, random_state=3571,\n",
      "   repulsion_strength=1.0, set_op_mix_ratio=1.0, spread=1.0,\n",
      "   target_metric='categorical', target_metric_kwds=None,\n",
      "   target_n_neighbors=-1, target_weight=0.5, transform_queue_size=4.0,\n",
      "   transform_seed=42, verbose=1)\n",
      "\n",
      "UMAP(a=None, angular_rp_forest=False, b=None, init='spectral',\n",
      "   learning_rate=1.0, local_connectivity=1.0, metric='euclidean',\n",
      "   metric_kwds=None, min_dist=0.65, n_components=2, n_epochs=None,\n",
      "   n_neighbors=8, negative_sample_rate=5, random_state=3571,\n",
      "   repulsion_strength=1.0, set_op_mix_ratio=1.0, spread=1.0,\n",
      "   target_metric='categorical', target_metric_kwds=None,\n",
      "   target_n_neighbors=-1, target_weight=0.5, transform_queue_size=4.0,\n",
      "   transform_seed=42, verbose=1)\n",
      "Construct fuzzy simplicial set\n",
      "Tue Nov 12 15:56:40 2019 Finding Nearest Neighbors\n",
      "Tue Nov 12 15:56:40 2019 Finished Nearest Neighbor Search\n",
      "Tue Nov 12 15:56:40 2019 Construct embedding\n",
      "\tcompleted  0  /  500 epochs\n",
      "\tcompleted  50  /  500 epochs\n",
      "\tcompleted  100  /  500 epochs\n",
      "\tcompleted  150  /  500 epochs\n",
      "\tcompleted  200  /  500 epochs\n",
      "\tcompleted  250  /  500 epochs\n",
      "\tcompleted  300  /  500 epochs\n",
      "\tcompleted  350  /  500 epochs\n",
      "\tcompleted  400  /  500 epochs\n",
      "\tcompleted  450  /  500 epochs\n",
      "Tue Nov 12 15:56:40 2019 Finished embedding\n",
      "\n",
      "..Scaling with: MinMaxScaler(copy=True, feature_range=(0, 1))\n",
      "\n",
      "Mapping on data shaped (50, 2) using lens shaped (50, 2)\n",
      "\n",
      "Creating 1225 hypercubes.\n",
      "\n",
      "Created 0 edges and 0 nodes in 0:00:00.043938.\n"
     ]
    },
    {
     "ename": "Exception",
     "evalue": "Visualize requires a mapper with more than 0 nodes. \nIt is possible that the constructed mapper could have been constructed with bad parameters. This can occasionally happens when using the default clustering algorithm. Try changing `eps` or `min_samples` in the DBSCAN clustering algorithm.",
     "output_type": "error",
     "traceback": [
      "\u001b[0;31m---------------------------------------------------------------------------\u001b[0m",
      "\u001b[0;31mException\u001b[0m                                 Traceback (most recent call last)",
      "\u001b[0;32m<ipython-input-148-84f4052742fe>\u001b[0m in \u001b[0;36m<module>\u001b[0;34m()\u001b[0m\n\u001b[0;32m----> 1\u001b[0;31m \u001b[0mvisualize\u001b[0m\u001b[0;34m(\u001b[0m\u001b[0mkmapper_data\u001b[0m\u001b[0;34m,\u001b[0m \u001b[0mcustom_tooltips\u001b[0m\u001b[0;34m,\u001b[0m \u001b[0mitems_count\u001b[0m\u001b[0;34m=\u001b[0m\u001b[0;36m50\u001b[0m\u001b[0;34m,\u001b[0m \u001b[0mfilename\u001b[0m\u001b[0;34m=\u001b[0m\u001b[0;34m\"movies_50.html\"\u001b[0m\u001b[0;34m)\u001b[0m\u001b[0;34m\u001b[0m\u001b[0;34m\u001b[0m\u001b[0m\n\u001b[0m",
      "\u001b[0;32m<ipython-input-147-9a975e891366>\u001b[0m in \u001b[0;36mvisualize\u001b[0;34m(data, custom_tooltips, items_count, filename, title)\u001b[0m\n\u001b[1;32m     16\u001b[0m     \u001b[0;31m# Visualize it\u001b[0m\u001b[0;34m\u001b[0m\u001b[0;34m\u001b[0m\u001b[0;34m\u001b[0m\u001b[0m\n\u001b[1;32m     17\u001b[0m     html = mapper.visualize(graph, path_html=filename,\n\u001b[0;32m---> 18\u001b[0;31m                      title=title, custom_tooltips=custom_tooltips[:items_count])\n\u001b[0m\u001b[1;32m     19\u001b[0m \u001b[0;34m\u001b[0m\u001b[0m\n\u001b[1;32m     20\u001b[0m     \u001b[0;31m# Inline display\u001b[0m\u001b[0;34m\u001b[0m\u001b[0;34m\u001b[0m\u001b[0;34m\u001b[0m\u001b[0m\n",
      "\u001b[0;32m/anaconda3/lib/python3.6/site-packages/kmapper/kmapper.py\u001b[0m in \u001b[0;36mvisualize\u001b[0;34m(self, graph, color_function, custom_tooltips, custom_meta, path_html, title, save_file, X, X_names, lens, lens_names, show_tooltips, nbins)\u001b[0m\n\u001b[1;32m    733\u001b[0m         \u001b[0;32mif\u001b[0m \u001b[0;32mnot\u001b[0m \u001b[0mlen\u001b[0m\u001b[0;34m(\u001b[0m\u001b[0mgraph\u001b[0m\u001b[0;34m[\u001b[0m\u001b[0;34m\"nodes\"\u001b[0m\u001b[0;34m]\u001b[0m\u001b[0;34m)\u001b[0m \u001b[0;34m>\u001b[0m \u001b[0;36m0\u001b[0m\u001b[0;34m:\u001b[0m\u001b[0;34m\u001b[0m\u001b[0;34m\u001b[0m\u001b[0m\n\u001b[1;32m    734\u001b[0m             raise Exception(\n\u001b[0;32m--> 735\u001b[0;31m                 \u001b[0;34m\"Visualize requires a mapper with more than 0 nodes. \\nIt is possible that the constructed mapper could have been constructed with bad parameters. This can occasionally happens when using the default clustering algorithm. Try changing `eps` or `min_samples` in the DBSCAN clustering algorithm.\"\u001b[0m\u001b[0;34m\u001b[0m\u001b[0;34m\u001b[0m\u001b[0m\n\u001b[0m\u001b[1;32m    736\u001b[0m             )\n\u001b[1;32m    737\u001b[0m \u001b[0;34m\u001b[0m\u001b[0m\n",
      "\u001b[0;31mException\u001b[0m: Visualize requires a mapper with more than 0 nodes. \nIt is possible that the constructed mapper could have been constructed with bad parameters. This can occasionally happens when using the default clustering algorithm. Try changing `eps` or `min_samples` in the DBSCAN clustering algorithm."
     ]
    }
   ],
   "source": [
    "visualize(kmapper_data, custom_tooltips, items_count=50, filename=\"movies_50.html\")"
   ]
  },
  {
   "cell_type": "code",
   "execution_count": 149,
   "metadata": {},
   "outputs": [
    {
     "name": "stdout",
     "output_type": "stream",
     "text": [
      "KeplerMapper()\n",
      "..Composing projection pipeline of length 1:\n",
      "\tProjections: UMAP(a=None, angular_rp_forest=False, b=None, init='spectral',\n",
      "   learning_rate=1.0, local_connectivity=1.0, metric='euclidean',\n",
      "   metric_kwds=None, min_dist=0.65, n_components=2, n_epochs=None,\n",
      "   n_neighbors=8, negative_sample_rate=5, random_state=3571,\n",
      "   repulsion_strength=1.0, set_op_mix_ratio=1.0, spread=1.0,\n",
      "   target_metric='categorical', target_metric_kwds=None,\n",
      "   target_n_neighbors=-1, target_weight=0.5, transform_queue_size=4.0,\n",
      "   transform_seed=42, verbose=False)\n",
      "\tDistance matrices: False\n",
      "\tScalers: MinMaxScaler(copy=True, feature_range=(0, 1))\n",
      "..Projecting on data shaped (70, 64)\n",
      "\n",
      "..Projecting data using: \n",
      "\tUMAP(a=None, angular_rp_forest=False, b=None, init='spectral',\n",
      "   learning_rate=1.0, local_connectivity=1.0, metric='euclidean',\n",
      "   metric_kwds=None, min_dist=0.65, n_components=2, n_epochs=None,\n",
      "   n_neighbors=8, negative_sample_rate=5, random_state=3571,\n",
      "   repulsion_strength=1.0, set_op_mix_ratio=1.0, spread=1.0,\n",
      "   target_metric='categorical', target_metric_kwds=None,\n",
      "   target_n_neighbors=-1, target_weight=0.5, transform_queue_size=4.0,\n",
      "   transform_seed=42, verbose=1)\n",
      "\n",
      "UMAP(a=None, angular_rp_forest=False, b=None, init='spectral',\n",
      "   learning_rate=1.0, local_connectivity=1.0, metric='euclidean',\n",
      "   metric_kwds=None, min_dist=0.65, n_components=2, n_epochs=None,\n",
      "   n_neighbors=8, negative_sample_rate=5, random_state=3571,\n",
      "   repulsion_strength=1.0, set_op_mix_ratio=1.0, spread=1.0,\n",
      "   target_metric='categorical', target_metric_kwds=None,\n",
      "   target_n_neighbors=-1, target_weight=0.5, transform_queue_size=4.0,\n",
      "   transform_seed=42, verbose=1)\n",
      "Construct fuzzy simplicial set\n",
      "Tue Nov 12 15:56:53 2019 Finding Nearest Neighbors\n",
      "Tue Nov 12 15:56:53 2019 Finished Nearest Neighbor Search\n",
      "Tue Nov 12 15:56:53 2019 Construct embedding\n",
      "\tcompleted  0  /  500 epochs\n",
      "\tcompleted  50  /  500 epochs\n",
      "\tcompleted  100  /  500 epochs\n",
      "\tcompleted  150  /  500 epochs\n",
      "\tcompleted  200  /  500 epochs\n",
      "\tcompleted  250  /  500 epochs\n",
      "\tcompleted  300  /  500 epochs\n",
      "\tcompleted  350  /  500 epochs\n",
      "\tcompleted  400  /  500 epochs\n",
      "\tcompleted  450  /  500 epochs\n",
      "Tue Nov 12 15:56:53 2019 Finished embedding\n",
      "\n",
      "..Scaling with: MinMaxScaler(copy=True, feature_range=(0, 1))\n",
      "\n",
      "Mapping on data shaped (70, 2) using lens shaped (70, 2)\n",
      "\n",
      "Creating 1225 hypercubes.\n",
      "\n",
      "Created 171 edges and 19 nodes in 0:00:00.057516.\n",
      "Wrote visualization to: movies_70.html\n"
     ]
    },
    {
     "data": {
      "text/html": [
       "<iframe src=movies_70.html width=100%% height=800 frameBorder=\"0\"></iframe>"
      ],
      "text/plain": [
       "<IPython.core.display.HTML object>"
      ]
     },
     "metadata": {},
     "output_type": "display_data"
    }
   ],
   "source": [
    "visualize(kmapper_data, custom_tooltips, items_count=70, filename=\"movies_70.html\")"
   ]
  },
  {
   "cell_type": "code",
   "execution_count": 186,
   "metadata": {
    "scrolled": true
   },
   "outputs": [
    {
     "name": "stdout",
     "output_type": "stream",
     "text": [
      "KeplerMapper()\n",
      "..Composing projection pipeline of length 1:\n",
      "\tProjections: UMAP(a=None, angular_rp_forest=False, b=None, init='spectral',\n",
      "   learning_rate=1.0, local_connectivity=1.0, metric='euclidean',\n",
      "   metric_kwds=None, min_dist=0.65, n_components=2, n_epochs=None,\n",
      "   n_neighbors=8, negative_sample_rate=5, random_state=3571,\n",
      "   repulsion_strength=1.0, set_op_mix_ratio=1.0, spread=1.0,\n",
      "   target_metric='categorical', target_metric_kwds=None,\n",
      "   target_n_neighbors=-1, target_weight=0.5, transform_queue_size=4.0,\n",
      "   transform_seed=42, verbose=False)\n",
      "\tDistance matrices: False\n",
      "\tScalers: MinMaxScaler(copy=True, feature_range=(0, 1))\n",
      "..Projecting on data shaped (100, 64)\n",
      "\n",
      "..Projecting data using: \n",
      "\tUMAP(a=None, angular_rp_forest=False, b=None, init='spectral',\n",
      "   learning_rate=1.0, local_connectivity=1.0, metric='euclidean',\n",
      "   metric_kwds=None, min_dist=0.65, n_components=2, n_epochs=None,\n",
      "   n_neighbors=8, negative_sample_rate=5, random_state=3571,\n",
      "   repulsion_strength=1.0, set_op_mix_ratio=1.0, spread=1.0,\n",
      "   target_metric='categorical', target_metric_kwds=None,\n",
      "   target_n_neighbors=-1, target_weight=0.5, transform_queue_size=4.0,\n",
      "   transform_seed=42, verbose=1)\n",
      "\n",
      "UMAP(a=None, angular_rp_forest=False, b=None, init='spectral',\n",
      "   learning_rate=1.0, local_connectivity=1.0, metric='euclidean',\n",
      "   metric_kwds=None, min_dist=0.65, n_components=2, n_epochs=None,\n",
      "   n_neighbors=8, negative_sample_rate=5, random_state=3571,\n",
      "   repulsion_strength=1.0, set_op_mix_ratio=1.0, spread=1.0,\n",
      "   target_metric='categorical', target_metric_kwds=None,\n",
      "   target_n_neighbors=-1, target_weight=0.5, transform_queue_size=4.0,\n",
      "   transform_seed=42, verbose=1)\n",
      "Construct fuzzy simplicial set\n",
      "Tue Nov 12 18:57:35 2019 Finding Nearest Neighbors\n",
      "Tue Nov 12 18:57:35 2019 Finished Nearest Neighbor Search\n",
      "Tue Nov 12 18:57:35 2019 Construct embedding\n",
      "\tcompleted  0  /  500 epochs\n",
      "\tcompleted  50  /  500 epochs\n",
      "\tcompleted  100  /  500 epochs\n",
      "\tcompleted  150  /  500 epochs\n",
      "\tcompleted  200  /  500 epochs\n",
      "\tcompleted  250  /  500 epochs\n",
      "\tcompleted  300  /  500 epochs\n",
      "\tcompleted  350  /  500 epochs\n",
      "\tcompleted  400  /  500 epochs\n",
      "\tcompleted  450  /  500 epochs\n",
      "Tue Nov 12 18:57:35 2019 Finished embedding\n",
      "\n",
      "..Scaling with: MinMaxScaler(copy=True, feature_range=(0, 1))\n",
      "\n",
      "Mapping on data shaped (100, 2) using lens shaped (100, 2)\n",
      "\n",
      "Creating 1225 hypercubes.\n",
      "Merged 72 duplicate nodes.\n",
      "\n",
      "Number of nodes before merger: 220; after merger: 148\n",
      "\n",
      "\n",
      "Created 6416 edges and 148 nodes in 0:00:00.245368.\n",
      "Wrote visualization to: movies_100.html\n"
     ]
    }
   ],
   "source": [
    "visualize(kmapper_data, custom_tooltips, items_count=100, filename=\"movies_100.html\", show=False)"
   ]
  },
  {
   "cell_type": "code",
   "execution_count": 184,
   "metadata": {},
   "outputs": [
    {
     "name": "stdout",
     "output_type": "stream",
     "text": [
      "KeplerMapper()\n",
      "..Composing projection pipeline of length 1:\n",
      "\tProjections: UMAP(a=None, angular_rp_forest=False, b=None, init='spectral',\n",
      "   learning_rate=1.0, local_connectivity=1.0, metric='euclidean',\n",
      "   metric_kwds=None, min_dist=0.65, n_components=3, n_epochs=None,\n",
      "   n_neighbors=8, negative_sample_rate=5, random_state=3571,\n",
      "   repulsion_strength=1.0, set_op_mix_ratio=1.0, spread=1.0,\n",
      "   target_metric='categorical', target_metric_kwds=None,\n",
      "   target_n_neighbors=-1, target_weight=0.5, transform_queue_size=4.0,\n",
      "   transform_seed=42, verbose=False)\n",
      "\tDistance matrices: False\n",
      "\tScalers: MinMaxScaler(copy=True, feature_range=(0, 1))\n",
      "..Projecting on data shaped (300, 64)\n",
      "\n",
      "..Projecting data using: \n",
      "\tUMAP(a=None, angular_rp_forest=False, b=None, init='spectral',\n",
      "   learning_rate=1.0, local_connectivity=1.0, metric='euclidean',\n",
      "   metric_kwds=None, min_dist=0.65, n_components=3, n_epochs=None,\n",
      "   n_neighbors=8, negative_sample_rate=5, random_state=3571,\n",
      "   repulsion_strength=1.0, set_op_mix_ratio=1.0, spread=1.0,\n",
      "   target_metric='categorical', target_metric_kwds=None,\n",
      "   target_n_neighbors=-1, target_weight=0.5, transform_queue_size=4.0,\n",
      "   transform_seed=42, verbose=1)\n",
      "\n",
      "UMAP(a=None, angular_rp_forest=False, b=None, init='spectral',\n",
      "   learning_rate=1.0, local_connectivity=1.0, metric='euclidean',\n",
      "   metric_kwds=None, min_dist=0.65, n_components=3, n_epochs=None,\n",
      "   n_neighbors=8, negative_sample_rate=5, random_state=3571,\n",
      "   repulsion_strength=1.0, set_op_mix_ratio=1.0, spread=1.0,\n",
      "   target_metric='categorical', target_metric_kwds=None,\n",
      "   target_n_neighbors=-1, target_weight=0.5, transform_queue_size=4.0,\n",
      "   transform_seed=42, verbose=1)\n",
      "Construct fuzzy simplicial set\n",
      "Tue Nov 12 18:52:44 2019 Finding Nearest Neighbors\n",
      "Tue Nov 12 18:52:44 2019 Finished Nearest Neighbor Search\n",
      "Tue Nov 12 18:52:44 2019 Construct embedding\n",
      "\tcompleted  0  /  500 epochs\n",
      "\tcompleted  50  /  500 epochs\n",
      "\tcompleted  100  /  500 epochs\n",
      "\tcompleted  150  /  500 epochs\n",
      "\tcompleted  200  /  500 epochs\n",
      "\tcompleted  250  /  500 epochs\n",
      "\tcompleted  300  /  500 epochs\n",
      "\tcompleted  350  /  500 epochs\n",
      "\tcompleted  400  /  500 epochs\n",
      "\tcompleted  450  /  500 epochs\n",
      "Tue Nov 12 18:52:44 2019 Finished embedding\n",
      "\n",
      "..Scaling with: MinMaxScaler(copy=True, feature_range=(0, 1))\n",
      "\n",
      "Mapping on data shaped (300, 3) using lens shaped (300, 3)\n",
      "\n",
      "Creating 42875 hypercubes.\n",
      "Merged 3433 duplicate nodes.\n",
      "\n",
      "Number of nodes before merger: 6087; after merger: 2654\n",
      "\n",
      "\n",
      "Created 1339687 edges and 2654 nodes in 0:00:16.089390.\n",
      "Wrote visualization to: movies_300.html\n"
     ]
    }
   ],
   "source": [
    "visualize(kmapper_data, custom_tooltips, items_count=300, filename=\"movies_300.html\", show=False)"
   ]
  },
  {
   "cell_type": "code",
   "execution_count": 173,
   "metadata": {},
   "outputs": [],
   "source": [
    "kmpapper_movies = np.array(movies.join(average_movie_rating, ['movie_id'], 'outer').join(popularity, ['movie_id'], 'outer').drop('movie_id', 'movie_title', 'release_date', 'video_release_date', 'IMDb_URL').collect())\n",
    "kmpapper_movies_tooltips = np.array(movies.select('movie_title').collect()).reshape(-1)"
   ]
  },
  {
   "cell_type": "code",
   "execution_count": 183,
   "metadata": {},
   "outputs": [
    {
     "name": "stdout",
     "output_type": "stream",
     "text": [
      "KeplerMapper()\n",
      "..Composing projection pipeline of length 1:\n",
      "\tProjections: UMAP(a=None, angular_rp_forest=False, b=None, init='spectral',\n",
      "   learning_rate=1.0, local_connectivity=1.0, metric='euclidean',\n",
      "   metric_kwds=None, min_dist=0.65, n_components=3, n_epochs=None,\n",
      "   n_neighbors=8, negative_sample_rate=5, random_state=3571,\n",
      "   repulsion_strength=1.0, set_op_mix_ratio=1.0, spread=1.0,\n",
      "   target_metric='categorical', target_metric_kwds=None,\n",
      "   target_n_neighbors=-1, target_weight=0.5, transform_queue_size=4.0,\n",
      "   transform_seed=42, verbose=False)\n",
      "\tDistance matrices: False\n",
      "\tScalers: MinMaxScaler(copy=True, feature_range=(0, 1))\n",
      "..Projecting on data shaped (100, 22)\n",
      "\n",
      "..Projecting data using: \n",
      "\tUMAP(a=None, angular_rp_forest=False, b=None, init='spectral',\n",
      "   learning_rate=1.0, local_connectivity=1.0, metric='euclidean',\n",
      "   metric_kwds=None, min_dist=0.65, n_components=3, n_epochs=None,\n",
      "   n_neighbors=8, negative_sample_rate=5, random_state=3571,\n",
      "   repulsion_strength=1.0, set_op_mix_ratio=1.0, spread=1.0,\n",
      "   target_metric='categorical', target_metric_kwds=None,\n",
      "   target_n_neighbors=-1, target_weight=0.5, transform_queue_size=4.0,\n",
      "   transform_seed=42, verbose=1)\n",
      "\n",
      "UMAP(a=None, angular_rp_forest=False, b=None, init='spectral',\n",
      "   learning_rate=1.0, local_connectivity=1.0, metric='euclidean',\n",
      "   metric_kwds=None, min_dist=0.65, n_components=3, n_epochs=None,\n",
      "   n_neighbors=8, negative_sample_rate=5, random_state=3571,\n",
      "   repulsion_strength=1.0, set_op_mix_ratio=1.0, spread=1.0,\n",
      "   target_metric='categorical', target_metric_kwds=None,\n",
      "   target_n_neighbors=-1, target_weight=0.5, transform_queue_size=4.0,\n",
      "   transform_seed=42, verbose=1)\n",
      "Construct fuzzy simplicial set\n",
      "Tue Nov 12 18:48:12 2019 Finding Nearest Neighbors\n",
      "Tue Nov 12 18:48:12 2019 Finished Nearest Neighbor Search\n",
      "Tue Nov 12 18:48:12 2019 Construct embedding\n",
      "\tcompleted  0  /  500 epochs\n",
      "\tcompleted  50  /  500 epochs\n",
      "\tcompleted  100  /  500 epochs\n",
      "\tcompleted  150  /  500 epochs\n",
      "\tcompleted  200  /  500 epochs\n",
      "\tcompleted  250  /  500 epochs\n",
      "\tcompleted  300  /  500 epochs\n",
      "\tcompleted  350  /  500 epochs\n",
      "\tcompleted  400  /  500 epochs\n",
      "\tcompleted  450  /  500 epochs\n",
      "Tue Nov 12 18:48:12 2019 Finished embedding\n",
      "\n",
      "..Scaling with: MinMaxScaler(copy=True, feature_range=(0, 1))\n",
      "\n",
      "Mapping on data shaped (100, 3) using lens shaped (100, 3)\n",
      "\n",
      "Creating 42875 hypercubes.\n",
      "Merged 25 duplicate nodes.\n",
      "\n",
      "Number of nodes before merger: 28; after merger: 3\n",
      "\n",
      "\n",
      "Created 3 edges and 3 nodes in 0:00:01.228340.\n",
      "Wrote visualization to: movies_100_1.html\n"
     ]
    }
   ],
   "source": [
    "visualize(kmpapper_movies, kmpapper_movies_tooltips, items_count=100, filename=\"movies_100_1.html\", show=False)\n"
   ]
  },
  {
   "cell_type": "code",
   "execution_count": 176,
   "metadata": {},
   "outputs": [
    {
     "data": {
      "text/plain": [
       "array([0, 0, 1, 0, 0, 0, 0, 0, 0, 0, 0, 0, 0, 0, 0, 0, 0, 0, 0, 1994,\n",
       "       3.859154929577465, 71], dtype=object)"
      ]
     },
     "execution_count": 176,
     "metadata": {},
     "output_type": "execute_result"
    }
   ],
   "source": []
  },
  {
   "cell_type": "code",
   "execution_count": null,
   "metadata": {},
   "outputs": [],
   "source": []
  }
 ],
 "metadata": {
  "kernelspec": {
   "display_name": "Python 3",
   "language": "python",
   "name": "python3"
  },
  "language_info": {
   "codemirror_mode": {
    "name": "ipython",
    "version": 3
   },
   "file_extension": ".py",
   "mimetype": "text/x-python",
   "name": "python",
   "nbconvert_exporter": "python",
   "pygments_lexer": "ipython3",
   "version": "3.6.8"
  }
 },
 "nbformat": 4,
 "nbformat_minor": 2
}
