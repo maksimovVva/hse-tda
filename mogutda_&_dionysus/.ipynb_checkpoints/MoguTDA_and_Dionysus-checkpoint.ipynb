{
 "cells": [
  {
   "cell_type": "code",
   "execution_count": 1,
   "metadata": {},
   "outputs": [
    {
     "data": {
      "text/html": [
       "<style>.rendered_html { font-size: 18px; }</style>"
      ],
      "text/plain": [
       "<IPython.core.display.HTML object>"
      ]
     },
     "metadata": {},
     "output_type": "display_data"
    }
   ],
   "source": [
    "from IPython.core.display import display, HTML\n",
    "display(HTML(\"<style>.rendered_html { font-size: 18px; }</style>\"))"
   ]
  },
  {
   "cell_type": "markdown",
   "metadata": {},
   "source": [
    "# [Link to the original source](https://github.com/maksimovVva/TDA-course)"
   ]
  },
  {
   "cell_type": "markdown",
   "metadata": {},
   "source": [
    "# Topological Data Analysis"
   ]
  },
  {
   "cell_type": "markdown",
   "metadata": {},
   "source": [
    "## Software and tools for TDA "
   ]
  },
  {
   "cell_type": "markdown",
   "metadata": {},
   "source": [
    "Created by: **Maslennikova E.** \n",
    "\n",
    "_HSE student,department of Data Mining_\n",
    "\n",
    "maks_lizok@mail.ru\n",
    "\n",
    "[Github profile](https://github.com/maksimovVva)"
   ]
  },
  {
   "cell_type": "markdown",
   "metadata": {},
   "source": [
    "# 1. Python package MoguTDA"
   ]
  },
  {
   "cell_type": "markdown",
   "metadata": {},
   "source": [
    "Link on [Official MoguTDA site](https://mogutda.readthedocs.io/en/latest/index.html) and [Github repository](https://github.com/stephenhky/MoguTDA)"
   ]
  },
  {
   "cell_type": "markdown",
   "metadata": {},
   "source": [
    "Installation process is very simply, just using pip"
   ]
  },
  {
   "cell_type": "code",
   "execution_count": 2,
   "metadata": {},
   "outputs": [
    {
     "name": "stdout",
     "output_type": "stream",
     "text": [
      "\u001b[33mDEPRECATION: Python 2.7 will reach the end of its life on January 1st, 2020. Please upgrade your Python as Python 2.7 won't be maintained after that date. A future version of pip will drop support for Python 2.7. More details about Python 2 support in pip, can be found at https://pip.pypa.io/en/latest/development/release-process/#python-2-support\u001b[0m\n",
      "Requirement already up-to-date: mogutda in /Users/elizavetamaslennikova/opt/anaconda2/lib/python2.7/site-packages (0.1.5)\n",
      "Requirement already satisfied, skipping upgrade: numpy in /Users/elizavetamaslennikova/opt/anaconda2/lib/python2.7/site-packages (from mogutda) (1.16.5)\n",
      "Requirement already satisfied, skipping upgrade: scipy in /Users/elizavetamaslennikova/opt/anaconda2/lib/python2.7/site-packages (from mogutda) (1.2.1)\n",
      "Requirement already satisfied, skipping upgrade: networkx>=2.0 in /Users/elizavetamaslennikova/opt/anaconda2/lib/python2.7/site-packages (from mogutda) (2.2)\n",
      "Requirement already satisfied, skipping upgrade: decorator>=4.3.0 in /Users/elizavetamaslennikova/opt/anaconda2/lib/python2.7/site-packages (from networkx>=2.0->mogutda) (4.4.0)\n"
     ]
    }
   ],
   "source": [
    "!pip install -U mogutda"
   ]
  },
  {
   "cell_type": "markdown",
   "metadata": {},
   "source": [
    "**Package MoguTDA has a pleasant official page with standard content:**\n",
    "\n",
    "<img src=\"images/site.png\">"
   ]
  },
  {
   "cell_type": "markdown",
   "metadata": {},
   "source": [
    "We draw your attention to the fact that it officially declares that the library supports both the _**Python 2.***_ and _**Python 3.***_ versions."
   ]
  },
  {
   "cell_type": "markdown",
   "metadata": {},
   "source": [
    "We’ll further examine the documentation in order to better explore the capabilities of this package:"
   ]
  },
  {
   "cell_type": "code",
   "execution_count": 3,
   "metadata": {},
   "outputs": [],
   "source": [
    "import numpy as np\n",
    "from mogutda import SimplicialComplex, AlphaComplex, VietorisRipsComplex"
   ]
  },
  {
   "cell_type": "code",
   "execution_count": 4,
   "metadata": {},
   "outputs": [],
   "source": [
    "torus_sc = [(1,2,4), (4,2,5), (2,3,5), (3,5,6), (5,6,1), (1,6,2), (6,7,2), (7,3,2),\n",
    "                (1,3,4), (3,4,6), (4,6,7), (4,5,7), (5,7,1), (7,3,1)]\n",
    "torus_c = SimplicialComplex(simplices=torus_sc)"
   ]
  },
  {
   "cell_type": "code",
   "execution_count": 5,
   "metadata": {},
   "outputs": [
    {
     "name": "stdout",
     "output_type": "stream",
     "text": [
      "1\n",
      "2\n",
      "1\n"
     ]
    }
   ],
   "source": [
    "print(torus_c.betti_number(0))\n",
    "print(torus_c.betti_number(1))\n",
    "print(torus_c.betti_number(2))"
   ]
  },
  {
   "cell_type": "markdown",
   "metadata": {},
   "source": [
    "### That is all, really? Yes!\n",
    "\n",
    "\n",
    "These few commands above make up the full documentation of this package:\n",
    "\n",
    "<img src=\"images/tutorial.png\">"
   ]
  },
  {
   "cell_type": "markdown",
   "metadata": {},
   "source": [
    "Can this library really do just only that? Building a simplex complex and counting Betty numbers? \n",
    "To understand it in more detail, take a look at the _**source code**_ in the official Github repository:\n",
    "\n",
    "<img src=\"images/sourceCode.png\">"
   ]
  },
  {
   "cell_type": "markdown",
   "metadata": {},
   "source": [
    "There are only 3 files containing implementations for 3 types of classes: _**SimplicialComplex**_, _**AlphaComplex**_, _**VietorisRipsComplex**_ (with very scarce opportunities)."
   ]
  },
  {
   "cell_type": "markdown",
   "metadata": {},
   "source": [
    "In the process of repository research, I came across an interesting thing - links to the **developer's personal blog**. It is alleged that this library is a demonstration of the functionality described in the articles.\n",
    "\n",
    "But after reading them, it became clear that only 3 selected articles are of interest to us. They describe the functional library quite a bit and provide at least some examples. The content of the remaining articles rather superficially describes the possibilities of topological analysis of data and its fields of application without detailed examples.\n",
    "\n",
    "\n",
    "<img src=\"images/blog.png\">"
   ]
  },
  {
   "cell_type": "markdown",
   "metadata": {},
   "source": [
    "Let's move on to the analysis of the tool’s functionality, based on modest documentation and open source code."
   ]
  },
  {
   "cell_type": "markdown",
   "metadata": {},
   "source": [
    "### Simplicial Complex class"
   ]
  },
  {
   "cell_type": "markdown",
   "metadata": {},
   "source": [
    "Recall a little theory of **Topological data analysis**.\n",
    "\n",
    "**The n-simplex** is a convex hull of (n+1) points. \n",
    "\n",
    "For example:\n",
    "\n",
    "* 0-simplex is a point;\n",
    "\n",
    "* 1-simplex is a line segment;\n",
    "* 2-simplex is a triangle;\n",
    "* 3-simplex is a tetrahedron;\n",
    "* ...\n",
    "<img src=\"images/simplex_example.png\">"
   ]
  },
  {
   "cell_type": "markdown",
   "metadata": {},
   "source": [
    "**The face of a n-simplex** is a k-simplex, which is obtained as the convex hull of a subset of the vertices of this simplex.\n",
    "\n",
    "For example, 3-simplex contains:\n",
    "* four 0-simplexes;\n",
    "* six 1-simplexes;\n",
    "* four 2-semplexes;\n",
    "* one 3-simplex.\n",
    "\n",
    "<img src=\"images/simplex_faces.png\">"
   ]
  },
  {
   "cell_type": "markdown",
   "metadata": {},
   "source": [
    "**Simplicial Complex K** is a set of simplexes in which:\n",
    "* for each simplex from K _**all its faces also belong to K**_;\n",
    "* the intersection of any two simplexes from K is either _**the face of both simplexes**_ or _**empty**_.\n",
    "\n",
    "For example, we can create following simplex complex:\n",
    "<img src=\"images/complex.png\">\n",
    "It contains:\n",
    "* four 1-simplexes - {3,5}, {5,8}, {7,8}, {7,9};\n",
    "* one 2-simplex - {5,6,7};\n",
    "* one 3-simplex - {1,2,3,4}.\n",
    "\n",
    "\n",
    "We would like to note that, the set of points {5,7,8} is **not a simplex!** This is the **free space** between {5,6,7}, {5,8} and {7,8} simplexes."
   ]
  },
  {
   "cell_type": "markdown",
   "metadata": {},
   "source": [
    "Now we can create simplicial complex using MoguTDA: "
   ]
  },
  {
   "cell_type": "code",
   "execution_count": 6,
   "metadata": {},
   "outputs": [
    {
     "data": {
      "text/plain": [
       "<mogutda.abssimcomplex.SimplicialComplex instance at 0x1117222d8>"
      ]
     },
     "execution_count": 6,
     "metadata": {},
     "output_type": "execute_result"
    }
   ],
   "source": [
    "simplex_list = [(3,5), (5,8), (7,8), (7,9), (5,6,7), (1,2,3,4)]\n",
    "s_complex = SimplicialComplex(simplices=simplex_list)\n",
    "s_complex"
   ]
  },
  {
   "cell_type": "markdown",
   "metadata": {},
   "source": [
    "Notice, that this simplicial complex was designated by the concrete notation of several simplexes. Moreover, all points are indicated by simple numbering **without any association with specific coordinates**."
   ]
  },
  {
   "cell_type": "markdown",
   "metadata": {},
   "source": [
    "Using interface of this class we can get the set of simplexes:"
   ]
  },
  {
   "cell_type": "code",
   "execution_count": 7,
   "metadata": {},
   "outputs": [
    {
     "data": {
      "text/plain": [
       "[(3, 5), (5, 8), (7, 8), (7, 9), (5, 6, 7), (1, 2, 3, 4)]"
      ]
     },
     "execution_count": 7,
     "metadata": {},
     "output_type": "execute_result"
    }
   ],
   "source": [
    "s_complex.simplices"
   ]
  },
  {
   "cell_type": "markdown",
   "metadata": {},
   "source": [
    "Moreover, we can find **all faces** of this simplex complex - set with all faces of every simplex in this complex (which is also called **abstract simplicial complex**):"
   ]
  },
  {
   "cell_type": "code",
   "execution_count": 8,
   "metadata": {},
   "outputs": [
    {
     "data": {
      "text/plain": [
       "{(1,),\n",
       " (1, 2),\n",
       " (1, 2, 3),\n",
       " (1, 2, 3, 4),\n",
       " (1, 2, 4),\n",
       " (1, 3),\n",
       " (1, 3, 4),\n",
       " (1, 4),\n",
       " (2,),\n",
       " (2, 3),\n",
       " (2, 3, 4),\n",
       " (2, 4),\n",
       " (3,),\n",
       " (3, 4),\n",
       " (3, 5),\n",
       " (4,),\n",
       " (5,),\n",
       " (5, 6),\n",
       " (5, 6, 7),\n",
       " (5, 7),\n",
       " (5, 8),\n",
       " (6,),\n",
       " (6, 7),\n",
       " (7,),\n",
       " (7, 8),\n",
       " (7, 9),\n",
       " (8,),\n",
       " (9,)}"
      ]
     },
     "execution_count": 8,
     "metadata": {},
     "output_type": "execute_result"
    }
   ],
   "source": [
    "s_complex.face_set"
   ]
  },
  {
   "cell_type": "markdown",
   "metadata": {},
   "source": [
    "In addition, we can print **the subsets of abstract simplicial complex** with fixed dimension:"
   ]
  },
  {
   "cell_type": "code",
   "execution_count": 9,
   "metadata": {},
   "outputs": [
    {
     "name": "stdout",
     "output_type": "stream",
     "text": [
      "Subset with only 0-complex:\n",
      "[(9,), (1,), (3,), (5,), (7,), (8,), (2,), (4,), (6,)]\n",
      "\n",
      "Subset with only 1-complex:\n",
      "[(1, 3), (5, 6), (5, 8), (1, 2), (6, 7), (3, 5), (1, 4), (2, 3), (7, 9), (3, 4), (5, 7), (7, 8), (2, 4)]\n",
      "\n",
      "Subset with only 2-complex:\n",
      "[(5, 6, 7), (1, 2, 3), (1, 2, 4), (1, 3, 4), (2, 3, 4)]\n",
      "\n",
      "Subset with only 3-complex:\n",
      "[(1, 2, 3, 4)]\n",
      "\n",
      "Subset with only 4-complex:\n",
      "[]\n"
     ]
    }
   ],
   "source": [
    "print \"Subset with only 0-complex:\\n\", s_complex.n_faces(0)\n",
    "print \"\\nSubset with only 1-complex:\\n\", s_complex.n_faces(1)\n",
    "print \"\\nSubset with only 2-complex:\\n\", s_complex.n_faces(2)\n",
    "print \"\\nSubset with only 3-complex:\\n\", s_complex.n_faces(3)\n",
    "print \"\\nSubset with only 4-complex:\\n\", s_complex.n_faces(4)"
   ]
  },
  {
   "cell_type": "markdown",
   "metadata": {},
   "source": [
    "The next interesting feature of this library is the ability to count **Betti numbers**.\n",
    "\n",
    "Betty numbers are a sequence of invariants of a certain space, i.e. a sequence of certain constant unchanging quantities which are characterize a given body or space.\n",
    "\n",
    "**k-th Betty number** is the rank of the k-th homology group of the current space X:\n",
    "<img src=\"images/betti_numbers_formula.png\">\n",
    "\n",
    "It follows from this definition that Betty numbers can take only **non-negative integers or infinity**. For a n-dimensional body, we will be interested in only **the first n Betty numbers**, because only they can take nonzero values."
   ]
  },
  {
   "cell_type": "markdown",
   "metadata": {},
   "source": [
    "The first 3 Betty numbers have a fairly simple physical meaning:\n",
    "* **0-th Betti number** characterizes **the number of connected components**. \n",
    "\n",
    "For example, for these complexes 0-th Betti numbers will be equal to 1, 2, 3 respectively.\n",
    "<img src=\"images/betti_numbers_0.png\">\n",
    "\n",
    "* **1-th Betti number** characterizes **the number of \"through holes\" of a given body**. \n",
    "\n",
    "For example, for these bodies, which are as a “donut” with a different number of holes inside, 1-th Betti numbers will be equal to 1, 2, 3 respectively.\n",
    "<img src=\"images/betti_numbers_1.png\">\n",
    "\n",
    "* **2-th Betti number** characterizes **the number of voids or cavities** (three-dimensional space, completely limited by the edges of the object) in the body. \n",
    "\n",
    "For example, simple inflatable balloon has 2-th Betti number equal to 1.\n",
    "<img src=\"images/betti_numbers_2.png\">"
   ]
  },
  {
   "cell_type": "markdown",
   "metadata": {},
   "source": [
    "Let's try to calculate first 3 Betti numbers for our simplicial complex:"
   ]
  },
  {
   "cell_type": "code",
   "execution_count": 10,
   "metadata": {},
   "outputs": [
    {
     "name": "stdout",
     "output_type": "stream",
     "text": [
      "1\n",
      "1\n",
      "0\n"
     ]
    }
   ],
   "source": [
    "print(s_complex.betti_number(0))\n",
    "print(s_complex.betti_number(1))\n",
    "print(s_complex.betti_number(2))"
   ]
  },
  {
   "cell_type": "markdown",
   "metadata": {},
   "source": [
    "As we can see, our complex is **fully connected** and it has **one \"hole\"** between {5,6,7}, {5,8} and {7,8} simplixes. The 3-th Betti number is equal to 0 because a two-dimensional object cannot have three-dimensional cavities."
   ]
  },
  {
   "cell_type": "markdown",
   "metadata": {},
   "source": [
    "Let's try to redefine our simplicial complex by **removing {5,8} and {6,8} complexes** from it and **adding {5,6,7} complex**.\n",
    "<img src=\"images/complex2.png\">"
   ]
  },
  {
   "cell_type": "code",
   "execution_count": 11,
   "metadata": {},
   "outputs": [
    {
     "data": {
      "text/plain": [
       "[(3, 5), (5, 7, 8), (7, 9), (5, 6, 7), (1, 2, 3, 4)]"
      ]
     },
     "execution_count": 11,
     "metadata": {},
     "output_type": "execute_result"
    }
   ],
   "source": [
    "simplex_list = [(3,5), (5,7,8), (7,9), (5,6,7), (1,2,3,4)]\n",
    "s_complex = SimplicialComplex(simplices=simplex_list)\n",
    "s_complex.simplices"
   ]
  },
  {
   "cell_type": "markdown",
   "metadata": {},
   "source": [
    "Then we get a completely new body in which the \"hole\" already disappears. That is why it will have a different sequence of Betti numbers:"
   ]
  },
  {
   "cell_type": "code",
   "execution_count": 12,
   "metadata": {},
   "outputs": [
    {
     "name": "stdout",
     "output_type": "stream",
     "text": [
      "1\n",
      "0\n",
      "0\n"
     ]
    }
   ],
   "source": [
    "print(s_complex.betti_number(0))\n",
    "print(s_complex.betti_number(1))\n",
    "print(s_complex.betti_number(2))"
   ]
  },
  {
   "cell_type": "markdown",
   "metadata": {},
   "source": [
    "The functional of the base class for the simplicial complex ends on this and we proceed to the study of more complicated structures inherited from it."
   ]
  },
  {
   "cell_type": "markdown",
   "metadata": {},
   "source": [
    "### Vietoris-Rips Complex class"
   ]
  },
  {
   "cell_type": "markdown",
   "metadata": {},
   "source": [
    "Let's turn to the theory of **Simplicial Complexes**. \n",
    "\n",
    "As you can see above we can initialize Simplicial Complex by the concrete notation of several simplexes. But in practice, everything is much more complicated. We often have a **set of objects** as input data which represent a **set of points in space with specific coordinates**. Then it is already necessary to build a simplicial complex from it. \n",
    "\n",
    "One way to solve this problem is to build **Vietoris-Rips Complex**."
   ]
  },
  {
   "cell_type": "markdown",
   "metadata": {},
   "source": [
    "A subset of points S is a **simplex of the Vietoris-Rips complex** if the pairwise distances between the points from *S* are not greater than given value of epsilon.\n",
    "\n",
    "It turns out that in order to build this complex it is necessary to consider all given points and to connect in simplexes those of them, the pairwise distances between which is less than or equal to the given value."
   ]
  },
  {
   "cell_type": "markdown",
   "metadata": {},
   "source": [
    "Package MoguTDA provides an opportunity to build this complex:"
   ]
  },
  {
   "cell_type": "code",
   "execution_count": 13,
   "metadata": {},
   "outputs": [
    {
     "data": {
      "text/plain": [
       "<mogutda.vrcomplex.VietorisRipsComplex instance at 0xb211f3908>"
      ]
     },
     "execution_count": 13,
     "metadata": {},
     "output_type": "execute_result"
    }
   ],
   "source": [
    "points = [[0,0], [0,3], [2,2], [2,6], [5,3], [5,1], [7,5]]\n",
    "labels = [0,1,2,3,4,5,6]\n",
    "# params: points, epsilon, labels, distfunc (default - euclidean)\n",
    "v_complex = VietorisRipsComplex(points, 3, labels)\n",
    "v_complex"
   ]
  },
  {
   "cell_type": "markdown",
   "metadata": {},
   "source": [
    "For building just transfer the input points (with coordinates and labels) and the value of epsilon. By default, the Euclidean distance is used inside the constructor, but it is possible to redefine it to a special one if it is necessary."
   ]
  },
  {
   "cell_type": "markdown",
   "metadata": {},
   "source": [
    "**Important notice:** building of Vietoris-Rips Complex works only with __Python 2.*__ ! It is connected with internal implementation of this process."
   ]
  },
  {
   "cell_type": "markdown",
   "metadata": {},
   "source": [
    "We would also like to emphasize that this Simplicial Complex itself is stored inside the class as a two-dimensional graph with **graph type from NetworkX library**. "
   ]
  },
  {
   "cell_type": "code",
   "execution_count": 14,
   "metadata": {},
   "outputs": [
    {
     "data": {
      "text/plain": [
       "networkx.classes.graph.Graph"
      ]
     },
     "execution_count": 14,
     "metadata": {},
     "output_type": "execute_result"
    }
   ],
   "source": [
    "graph = v_complex.network\n",
    "type(graph)"
   ]
  },
  {
   "cell_type": "markdown",
   "metadata": {},
   "source": [
    "This is a significant advantage because NetworkX has many useful methods and algorithms for the graph. For example, we can visualize the simplicial complex using internal method *draw_networkx()*:"
   ]
  },
  {
   "cell_type": "code",
   "execution_count": 17,
   "metadata": {},
   "outputs": [
    {
     "data": {
      "image/png": "[encoded data removed]",
      "text/plain": [
       "<Figure size 432x288 with 1 Axes>"
      ]
     },
     "metadata": {
      "needs_background": "light"
     },
     "output_type": "display_data"
    }
   ],
   "source": [
    "import networkx as nx\n",
    "import matplotlib.pyplot as plt\n",
    "nx.draw_networkx(graph, points)"
   ]
  },
  {
   "cell_type": "markdown",
   "metadata": {},
   "source": [
    "Let's try to build and visualize _Vietoris-Rips complexes_ with different value of epsilon:"
   ]
  },
  {
   "cell_type": "code",
   "execution_count": 18,
   "metadata": {},
   "outputs": [
    {
     "name": "stdout",
     "output_type": "stream",
     "text": [
      "epsilon = 3\n"
     ]
    },
    {
     "data": {
      "image/png": "[encoded data removed]",
      "text/plain": [
       "<Figure size 432x288 with 1 Axes>"
      ]
     },
     "metadata": {
      "needs_background": "light"
     },
     "output_type": "display_data"
    }
   ],
   "source": [
    "epsilon = 3\n",
    "print \"epsilon =\", epsilon\n",
    "v_complex = VietorisRipsComplex(points, epsilon, labels)\n",
    "graph = v_complex.network\n",
    "nx.draw_networkx(graph, points)"
   ]
  },
  {
   "cell_type": "code",
   "execution_count": 19,
   "metadata": {},
   "outputs": [
    {
     "name": "stdout",
     "output_type": "stream",
     "text": [
      "epsilon = 4\n"
     ]
    },
    {
     "data": {
      "image/png": "[encoded data removed]",
      "text/plain": [
       "<Figure size 432x288 with 1 Axes>"
      ]
     },
     "metadata": {
      "needs_background": "light"
     },
     "output_type": "display_data"
    }
   ],
   "source": [
    "epsilon = 4\n",
    "print \"epsilon =\", epsilon\n",
    "v_complex = VietorisRipsComplex(points, epsilon, labels)\n",
    "graph = v_complex.network\n",
    "nx.draw_networkx(graph, points)"
   ]
  },
  {
   "cell_type": "code",
   "execution_count": 20,
   "metadata": {},
   "outputs": [
    {
     "name": "stdout",
     "output_type": "stream",
     "text": [
      "epsilon = 5\n"
     ]
    },
    {
     "data": {
      "image/png": "[encoded data removed]",
      "text/plain": [
       "<Figure size 432x288 with 1 Axes>"
      ]
     },
     "metadata": {
      "needs_background": "light"
     },
     "output_type": "display_data"
    }
   ],
   "source": [
    "epsilon = 5\n",
    "print \"epsilon =\", epsilon\n",
    "v_complex = VietorisRipsComplex(points, epsilon, labels)\n",
    "graph = v_complex.network\n",
    "nx.draw_networkx(graph, points)"
   ]
  },
  {
   "cell_type": "code",
   "execution_count": 21,
   "metadata": {},
   "outputs": [
    {
     "name": "stdout",
     "output_type": "stream",
     "text": [
      "epsilon = 6\n"
     ]
    },
    {
     "data": {
      "image/png": "[encoded data removed]",
      "text/plain": [
       "<Figure size 432x288 with 1 Axes>"
      ]
     },
     "metadata": {
      "needs_background": "light"
     },
     "output_type": "display_data"
    }
   ],
   "source": [
    "epsilon = 6\n",
    "print \"epsilon =\", epsilon\n",
    "v_complex = VietorisRipsComplex(points, epsilon, labels)\n",
    "graph = v_complex.network\n",
    "nx.draw_networkx(graph, points)"
   ]
  },
  {
   "cell_type": "markdown",
   "metadata": {},
   "source": [
    "As you can see, as the value increases, the **number of simplexes of large dimensions increases** and **the number of simplexes with small dimension decreases**."
   ]
  },
  {
   "cell_type": "markdown",
   "metadata": {},
   "source": [
    "Let's choose **epsilon = 4.1** and analyze this complex."
   ]
  },
  {
   "cell_type": "code",
   "execution_count": 22,
   "metadata": {},
   "outputs": [
    {
     "name": "stdout",
     "output_type": "stream",
     "text": [
      "epsilon = 4.1\n"
     ]
    },
    {
     "data": {
      "image/png": "[encoded data removed]",
      "text/plain": [
       "<Figure size 432x288 with 1 Axes>"
      ]
     },
     "metadata": {
      "needs_background": "light"
     },
     "output_type": "display_data"
    }
   ],
   "source": [
    "epsilon = 4.1\n",
    "print \"epsilon =\", epsilon\n",
    "v_complex = VietorisRipsComplex(points, epsilon, labels)\n",
    "graph = v_complex.network\n",
    "nx.draw_networkx(graph, points)"
   ]
  },
  {
   "cell_type": "markdown",
   "metadata": {},
   "source": [
    "It should be noted that in this case the _visualization of the complex is not entirely complete_. It must be understood that in this graph all subsets of points connected to each other are simplexes or their faces:"
   ]
  },
  {
   "cell_type": "code",
   "execution_count": 23,
   "metadata": {},
   "outputs": [
    {
     "data": {
      "text/plain": [
       "{(0,),\n",
       " (0, 1),\n",
       " (0, 1, 2),\n",
       " (0, 2),\n",
       " (1,),\n",
       " (1, 2),\n",
       " (1, 2, 3),\n",
       " (1, 3),\n",
       " (2,),\n",
       " (2, 3),\n",
       " (2, 4),\n",
       " (2, 4, 5),\n",
       " (2, 5),\n",
       " (3,),\n",
       " (4,),\n",
       " (4, 5),\n",
       " (4, 6),\n",
       " (5,),\n",
       " (6,)}"
      ]
     },
     "execution_count": 23,
     "metadata": {},
     "output_type": "execute_result"
    }
   ],
   "source": [
    "v_complex.face_set"
   ]
  },
  {
   "cell_type": "markdown",
   "metadata": {},
   "source": [
    "A more correct image should look like this, but there is no such implementation in this package."
   ]
  },
  {
   "cell_type": "markdown",
   "metadata": {},
   "source": [
    "<img src=\"images/vcomplex.png\">"
   ]
  },
  {
   "cell_type": "markdown",
   "metadata": {},
   "source": [
    "Moreover, we can calculate the **Betti-numbers for Vietoris-Rips complex** just as in the base class of the simplicial complex."
   ]
  },
  {
   "cell_type": "code",
   "execution_count": 24,
   "metadata": {},
   "outputs": [
    {
     "name": "stdout",
     "output_type": "stream",
     "text": [
      "1\n",
      "0\n",
      "0\n"
     ]
    }
   ],
   "source": [
    "print(v_complex.betti_number(0))\n",
    "print(v_complex.betti_number(1))\n",
    "print(v_complex.betti_number(2))"
   ]
  },
  {
   "cell_type": "markdown",
   "metadata": {},
   "source": [
    "As we can see, our complex is fully connected and doesn't have any \"hole\". The 3-th Betti number is equal to 0 because a two-dimensional object cannot have three-dimensional cavities."
   ]
  },
  {
   "cell_type": "markdown",
   "metadata": {},
   "source": [
    "### Alpha Complex class"
   ]
  },
  {
   "cell_type": "markdown",
   "metadata": {},
   "source": [
    "Let's turn to the theory of **Simplicial Complexes**. \n",
    "\n",
    "Another fairly common way to build a simplicial complex from a set of points is to build **Alpha Complex**."
   ]
  },
  {
   "cell_type": "markdown",
   "metadata": {},
   "source": [
    "The algorithm for constructing Alpha complex uses the so-called _Voronoi cells_."
   ]
  },
  {
   "cell_type": "markdown",
   "metadata": {},
   "source": [
    "**A Voronoi cell** of a point _x_ from a cloud of input points is **the set of points for which x is the closest point from input sets**.\n",
    "\n",
    "**A Voronoi diagram** is a set of Voronoi cells.\n",
    "<img src=\"images/voronoy.png\">"
   ]
  },
  {
   "cell_type": "markdown",
   "metadata": {},
   "source": [
    "To build a complex, it is necessary to construct **a Voronoi diagram** for the input set of points and then **connect those points into simplexes whose cells intersect along a segment with a length not less than a given epsilon**.\n",
    "\n",
    "<img src=\"images/voronoy2.png\">"
   ]
  },
  {
   "cell_type": "markdown",
   "metadata": {},
   "source": [
    "Package MoguTDA provides an opportunity to build this complex:"
   ]
  },
  {
   "cell_type": "code",
   "execution_count": 25,
   "metadata": {},
   "outputs": [
    {
     "data": {
      "text/plain": [
       "<mogutda.alphacomplex.AlphaComplex instance at 0xb231008c0>"
      ]
     },
     "execution_count": 25,
     "metadata": {},
     "output_type": "execute_result"
    }
   ],
   "source": [
    "points = [[0,0], [0,3], [2,2], [2,6], [5,3], [5,1], [7,5]]\n",
    "labels = [0,1,2,3,4,5,6]\n",
    "# params: points, epsilon, labels, distfunc (default - euclidean)\n",
    "a_complex = AlphaComplex(points, 3, labels)\n",
    "a_complex"
   ]
  },
  {
   "cell_type": "markdown",
   "metadata": {},
   "source": [
    "As in Vietoris-Rips Complex, for building just transfer the input points (with coordinates and labels) and the value of epsilon. By default, the Euclidean distance is used inside the constructor, but it is possible to redefine it to a special one if it is necessary."
   ]
  },
  {
   "cell_type": "markdown",
   "metadata": {},
   "source": [
    "But in this case, AlphaComplex doen't have NetworkX graph object:"
   ]
  },
  {
   "cell_type": "code",
   "execution_count": 26,
   "metadata": {},
   "outputs": [
    {
     "ename": "AttributeError",
     "evalue": "AlphaComplex instance has no attribute 'network'",
     "output_type": "error",
     "traceback": [
      "\u001b[0;31m---------------------------------------------------------------------------\u001b[0m",
      "\u001b[0;31mAttributeError\u001b[0m                            Traceback (most recent call last)",
      "\u001b[0;32m<ipython-input-26-398d52303728>\u001b[0m in \u001b[0;36m<module>\u001b[0;34m()\u001b[0m\n\u001b[0;32m----> 1\u001b[0;31m \u001b[0ma_complex\u001b[0m\u001b[0;34m.\u001b[0m\u001b[0mnetwork\u001b[0m\u001b[0;34m\u001b[0m\u001b[0m\n\u001b[0m",
      "\u001b[0;31mAttributeError\u001b[0m: AlphaComplex instance has no attribute 'network'"
     ]
    }
   ],
   "source": [
    "a_complex.network"
   ]
  },
  {
   "cell_type": "markdown",
   "metadata": {},
   "source": [
    "Of course, it’s not very difficult to build this object yourself and visualize it in a similar way:"
   ]
  },
  {
   "cell_type": "code",
   "execution_count": 27,
   "metadata": {},
   "outputs": [],
   "source": [
    "graph = nx.Graph()\n",
    "graph.add_nodes_from(labels)\n",
    "graph.add_edges_from([pair for pair in a_complex.face_set if len(pair) == 2])"
   ]
  },
  {
   "cell_type": "code",
   "execution_count": 28,
   "metadata": {
    "scrolled": false
   },
   "outputs": [
    {
     "data": {
      "image/png": "[encoded data removed]",
      "text/plain": [
       "<Figure size 432x288 with 1 Axes>"
      ]
     },
     "metadata": {
      "needs_background": "light"
     },
     "output_type": "display_data"
    }
   ],
   "source": [
    "nx.draw_networkx(graph, points)"
   ]
  },
  {
   "cell_type": "markdown",
   "metadata": {},
   "source": [
    "As in Vietoris-Rips complex, the _visualization of the complex is not entirely complete_. It must be understood that in this graph all subsets of points connected to each other are simplexes or their faces:"
   ]
  },
  {
   "cell_type": "code",
   "execution_count": 29,
   "metadata": {},
   "outputs": [
    {
     "data": {
      "text/plain": [
       "{(0,),\n",
       " (0, 1),\n",
       " (0, 1, 2),\n",
       " (0, 2),\n",
       " (0, 2, 5),\n",
       " (0, 5),\n",
       " (1,),\n",
       " (1, 2),\n",
       " (1, 2, 3),\n",
       " (1, 3),\n",
       " (2,),\n",
       " (2, 3),\n",
       " (2, 3, 4),\n",
       " (2, 4),\n",
       " (2, 4, 5),\n",
       " (2, 5),\n",
       " (3,),\n",
       " (3, 4),\n",
       " (3, 4, 6),\n",
       " (3, 6),\n",
       " (4,),\n",
       " (4, 5),\n",
       " (4, 5, 6),\n",
       " (4, 6),\n",
       " (5,),\n",
       " (5, 6),\n",
       " (6,)}"
      ]
     },
     "execution_count": 29,
     "metadata": {},
     "output_type": "execute_result"
    }
   ],
   "source": [
    "a_complex.face_set"
   ]
  },
  {
   "cell_type": "markdown",
   "metadata": {},
   "source": [
    "Now we can compare _Vietoris-Rips_ and _Alpha Complexes_ building with the same value of epsilon = 3:"
   ]
  },
  {
   "cell_type": "markdown",
   "metadata": {},
   "source": [
    "<img src=\"images/alphaVR.png\">"
   ]
  },
  {
   "cell_type": "markdown",
   "metadata": {},
   "source": [
    "### Some more examples"
   ]
  },
  {
   "cell_type": "markdown",
   "metadata": {},
   "source": [
    "Let's start exploration with more **difficult structures of points**."
   ]
  },
  {
   "cell_type": "markdown",
   "metadata": {},
   "source": [
    "We create array with 8 points, where the main part of the points is **concentrated in one area**, and one of them is **quite far removed** from them."
   ]
  },
  {
   "cell_type": "code",
   "execution_count": 30,
   "metadata": {
    "scrolled": false
   },
   "outputs": [
    {
     "data": {
      "image/png": "[encoded data removed]",
      "text/plain": [
       "<Figure size 720x504 with 1 Axes>"
      ]
     },
     "metadata": {
      "needs_background": "light"
     },
     "output_type": "display_data"
    }
   ],
   "source": [
    "import matplotlib.pyplot as plt\n",
    "\n",
    "twoDpointseg1 = np.array([[0,0], [0,1], [1,0], [1,1.5], [2.2, 3.3], [0, 4], [5,1], [10, 10]])\n",
    "plt.figure(figsize=(10,7))\n",
    "plt.scatter(twoDpointseg1[:,0], twoDpointseg1[:,1])\n",
    "plt.show()"
   ]
  },
  {
   "cell_type": "markdown",
   "metadata": {},
   "source": [
    "Next, we construct the dependency chart of the **value of first 2 Betti-numbers** versus the **value of epsilon** for _Vietoris-Rips_ and _Alpha Complexes_."
   ]
  },
  {
   "cell_type": "code",
   "execution_count": 31,
   "metadata": {},
   "outputs": [],
   "source": [
    "def calculate_alpha_betti(points, epsilon, complexclass, n_betti):\n",
    "    sc = complexclass(points, epsilon)\n",
    "    return sc.betti_number(n_betti)"
   ]
  },
  {
   "cell_type": "code",
   "execution_count": 32,
   "metadata": {},
   "outputs": [
    {
     "data": {
      "image/png": "[encoded data removed]",
      "text/plain": [
       "<Figure size 720x504 with 1 Axes>"
      ]
     },
     "metadata": {
      "needs_background": "light"
     },
     "output_type": "display_data"
    }
   ],
   "source": [
    "epsilons = np.linspace(0, 11, 401)\n",
    "\n",
    "alpha_betti0s = map(lambda epsilon: calculate_alpha_betti(twoDpointseg1, epsilon, AlphaComplex, 0),\n",
    "                    epsilons)\n",
    "\n",
    "vr_betti0s = map(lambda epsilon: calculate_alpha_betti(twoDpointseg1, epsilon, VietorisRipsComplex, 0),\n",
    "                 epsilons)\n",
    "\n",
    "plt.figure(figsize=(10,7))\n",
    "plt.plot(epsilons, list(alpha_betti0s), label=\"AlphaComplex\")\n",
    "plt.plot(epsilons, list(vr_betti0s), label=\"VietorisRipsComplex\")\n",
    "plt.title(\"Compare Alpha and VR complexes by Betti-numbers\")\n",
    "plt.xlabel(\"Epsilon\")\n",
    "plt.ylabel(\"Value of 0-Betti number\")\n",
    "plt.legend()\n",
    "\n",
    "plt.show()"
   ]
  },
  {
   "cell_type": "markdown",
   "metadata": {},
   "source": [
    "As we can see on charts the **number of connected components decreases** with increasing value of epsilon. Moreover, in this case the Alpha complex decreases with a higher rate."
   ]
  },
  {
   "cell_type": "code",
   "execution_count": 33,
   "metadata": {
    "scrolled": false
   },
   "outputs": [
    {
     "data": {
      "image/png": "[encoded data removed]",
      "text/plain": [
       "<Figure size 720x504 with 1 Axes>"
      ]
     },
     "metadata": {
      "needs_background": "light"
     },
     "output_type": "display_data"
    }
   ],
   "source": [
    "alpha_betti1s = map(lambda epsilon: calculate_alpha_betti(twoDpointseg1, epsilon, AlphaComplex, 1),\n",
    "                    epsilons)\n",
    "\n",
    "vr_betti1s = map(lambda epsilon: calculate_alpha_betti(twoDpointseg1, epsilon, VietorisRipsComplex, 1),\n",
    "                 epsilons)\n",
    "\n",
    "plt.figure(figsize=(10,7))\n",
    "plt.plot(epsilons, list(alpha_betti1s), label=\"AlphaComplex\")\n",
    "plt.plot(epsilons, list(vr_betti1s), label=\"VietorisRipsComplex\")\n",
    "plt.title(\"Compare Alpha and VR complexes by Betti-numbers\")\n",
    "plt.xlabel(\"Epsilon\")\n",
    "plt.ylabel(\"Value of 1-Betti number\")\n",
    "plt.legend()\n",
    "\n",
    "plt.show()"
   ]
  },
  {
   "cell_type": "markdown",
   "metadata": {},
   "source": [
    "In addition, all constructed simplexes do not have so-called \"holes\" regardless of the epsilon value."
   ]
  },
  {
   "cell_type": "markdown",
   "metadata": {},
   "source": [
    "Next we present similar experiments for a set of points uniformly selected **over the surface of an ellipse**."
   ]
  },
  {
   "cell_type": "code",
   "execution_count": 34,
   "metadata": {},
   "outputs": [
    {
     "data": {
      "image/png": "[encoded data removed]",
      "text/plain": [
       "<Figure size 720x504 with 1 Axes>"
      ]
     },
     "metadata": {
      "needs_background": "light"
     },
     "output_type": "display_data"
    }
   ],
   "source": [
    "ring = np.array([np.random.normal(loc=1, scale=0.01)*np.array([np.cos(t), np.sin(t)]) \n",
    "                 for t in np.linspace(0, 2*np.pi, 50)])[1:]\n",
    "plt.figure(figsize=(10,7))\n",
    "plt.scatter(ring[:,0], ring[:,1])\n",
    "plt.show()"
   ]
  },
  {
   "cell_type": "code",
   "execution_count": 35,
   "metadata": {},
   "outputs": [
    {
     "data": {
      "image/png": "[encoded data removed]",
      "text/plain": [
       "<Figure size 864x432 with 1 Axes>"
      ]
     },
     "metadata": {
      "needs_background": "light"
     },
     "output_type": "display_data"
    }
   ],
   "source": [
    "epsilons = np.linspace(0, 0.2, 101)\n",
    "\n",
    "alpha_betti0s = map(lambda epsilon: calculate_alpha_betti(ring, epsilon, AlphaComplex, 0),\n",
    "                    epsilons)\n",
    "\n",
    "vr_betti0s = map(lambda epsilon: calculate_alpha_betti(ring, epsilon, VietorisRipsComplex, 0),\n",
    "                 epsilons)\n",
    "\n",
    "plt.figure(figsize=(12,6))\n",
    "plt.plot(epsilons, list(alpha_betti0s), label=\"AlphaComplex\")\n",
    "plt.plot(epsilons, list(vr_betti0s), label=\"VietorisRipsComplex\")\n",
    "plt.title(\"Compare Alpha and VR complexes by Betti-numbers\")\n",
    "plt.xlabel(\"Epsilon\")\n",
    "plt.ylabel(\"Value of 0-Betti number\")\n",
    "plt.legend()\n",
    "\n",
    "plt.show()"
   ]
  },
  {
   "cell_type": "markdown",
   "metadata": {},
   "source": [
    "As we can see on charts, the structure of the dependences are very similar to the previous experiment: \n",
    "* the number of connected components decreases with increasing epsilon;\n",
    "* the rate of decrease in the Alpha complex is slightly higher."
   ]
  },
  {
   "cell_type": "code",
   "execution_count": 36,
   "metadata": {},
   "outputs": [
    {
     "data": {
      "image/png": "[encoded data removed]",
      "text/plain": [
       "<Figure size 864x432 with 1 Axes>"
      ]
     },
     "metadata": {
      "needs_background": "light"
     },
     "output_type": "display_data"
    }
   ],
   "source": [
    "epsilons = np.linspace(0, 0.2, 101)\n",
    "\n",
    "alpha_betti1s = map(lambda epsilon: calculate_alpha_betti(ring, epsilon, AlphaComplex, 1),\n",
    "                    epsilons)\n",
    "\n",
    "vr_betti1s = map(lambda epsilon: calculate_alpha_betti(ring, epsilon, VietorisRipsComplex, 1),\n",
    "                 epsilons)\n",
    "\n",
    "plt.figure(figsize=(12,6))\n",
    "plt.plot(epsilons, list(alpha_betti1s), label=\"AlphaComplex\")\n",
    "plt.plot(epsilons, list(vr_betti1s), label=\"VietorisRipsComplex\")\n",
    "plt.title(\"Compare Alpha and VR complexes by Betti-numbers\")\n",
    "plt.xlabel(\"Epsilon\")\n",
    "plt.ylabel(\"Value of 1-Betti number\")\n",
    "plt.legend()\n",
    "\n",
    "plt.show()"
   ]
  },
  {
   "cell_type": "markdown",
   "metadata": {},
   "source": [
    "As it is expected, when the epsilon parameter reaches a certain value, when the input points connect to a closed figure and the value of the 1-Betti number becomes equal to 1."
   ]
  },
  {
   "cell_type": "markdown",
   "metadata": {},
   "source": [
    "Next try to **explore more complicated structure of points** representing a set of several circles with different radius."
   ]
  },
  {
   "cell_type": "code",
   "execution_count": 37,
   "metadata": {
    "scrolled": false
   },
   "outputs": [
    {
     "data": {
      "image/png": "[encoded data removed]",
      "text/plain": [
       "<Figure size 504x504 with 1 Axes>"
      ]
     },
     "metadata": {
      "needs_background": "light"
     },
     "output_type": "display_data"
    }
   ],
   "source": [
    "sphere = np.array([[np.sin(theta)*np.cos(phi), np.sin(theta)*np.sin(phi), np.cos(theta)] \n",
    "                   for theta in np.linspace(0.02, np.pi, 31) for phi in np.linspace(0.02, 2*np.pi, 31)])\n",
    "plt.figure(figsize=(7,7))\n",
    "plt.scatter(sphere[:,0], sphere[:,1])\n",
    "plt.show()"
   ]
  },
  {
   "cell_type": "code",
   "execution_count": 38,
   "metadata": {
    "scrolled": true
   },
   "outputs": [
    {
     "name": "stdout",
     "output_type": "stream",
     "text": [
      "The number of points is equal to 961\n"
     ]
    }
   ],
   "source": [
    "print \"The number of points is equal to\", len(sphere)"
   ]
  },
  {
   "cell_type": "markdown",
   "metadata": {},
   "source": [
    "But when we try to build _Vietoris-Rips Complex_ and calculate 0-Betti number, we get a _kernel interruption_."
   ]
  },
  {
   "cell_type": "code",
   "execution_count": 39,
   "metadata": {},
   "outputs": [
    {
     "ename": "KeyboardInterrupt",
     "evalue": "",
     "output_type": "error",
     "traceback": [
      "\u001b[0;31m---------------------------------------------------------------------------\u001b[0m",
      "\u001b[0;31mKeyboardInterrupt\u001b[0m                         Traceback (most recent call last)",
      "\u001b[0;32m<ipython-input-39-4517b282329e>\u001b[0m in \u001b[0;36m<module>\u001b[0;34m()\u001b[0m\n\u001b[0;32m----> 1\u001b[0;31m \u001b[0mcomplex_vr\u001b[0m \u001b[0;34m=\u001b[0m \u001b[0mVietorisRipsComplex\u001b[0m\u001b[0;34m(\u001b[0m\u001b[0msphere\u001b[0m\u001b[0;34m,\u001b[0m \u001b[0;36m0.0001\u001b[0m\u001b[0;34m)\u001b[0m\u001b[0;34m\u001b[0m\u001b[0m\n\u001b[0m\u001b[1;32m      2\u001b[0m \u001b[0mcomplex_vr\u001b[0m\u001b[0;34m.\u001b[0m\u001b[0mbetti_number\u001b[0m\u001b[0;34m(\u001b[0m\u001b[0;36m0\u001b[0m\u001b[0;34m)\u001b[0m\u001b[0;34m\u001b[0m\u001b[0m\n",
      "\u001b[0;32m/Users/elizavetamaslennikova/opt/anaconda2/lib/python2.7/site-packages/mogutda/vrcomplex.pyc\u001b[0m in \u001b[0;36m__init__\u001b[0;34m(self, points, epsilon, labels, distfcn)\u001b[0m\n\u001b[1;32m     22\u001b[0m                                               \u001b[0mself\u001b[0m\u001b[0;34m.\u001b[0m\u001b[0mlabels\u001b[0m\u001b[0;34m,\u001b[0m\u001b[0;34m\u001b[0m\u001b[0m\n\u001b[1;32m     23\u001b[0m                                               \u001b[0mself\u001b[0m\u001b[0;34m.\u001b[0m\u001b[0mepsilon\u001b[0m\u001b[0;34m,\u001b[0m\u001b[0;34m\u001b[0m\u001b[0m\n\u001b[0;32m---> 24\u001b[0;31m                                               self.distfcn)\n\u001b[0m\u001b[1;32m     25\u001b[0m         \u001b[0mself\u001b[0m\u001b[0;34m.\u001b[0m\u001b[0mimport_simplices\u001b[0m\u001b[0;34m(\u001b[0m\u001b[0mmap\u001b[0m\u001b[0;34m(\u001b[0m\u001b[0mtuple\u001b[0m\u001b[0;34m,\u001b[0m \u001b[0mnx\u001b[0m\u001b[0;34m.\u001b[0m\u001b[0mfind_cliques\u001b[0m\u001b[0;34m(\u001b[0m\u001b[0mself\u001b[0m\u001b[0;34m.\u001b[0m\u001b[0mnetwork\u001b[0m\u001b[0;34m)\u001b[0m\u001b[0;34m)\u001b[0m\u001b[0;34m)\u001b[0m\u001b[0;34m\u001b[0m\u001b[0m\n\u001b[1;32m     26\u001b[0m \u001b[0;34m\u001b[0m\u001b[0m\n",
      "\u001b[0;32m/Users/elizavetamaslennikova/opt/anaconda2/lib/python2.7/site-packages/mogutda/vrcomplex.pyc\u001b[0m in \u001b[0;36mconstruct_network\u001b[0;34m(self, points, labels, epsilon, distfcn)\u001b[0m\n\u001b[1;32m     31\u001b[0m         \u001b[0;32mfor\u001b[0m \u001b[0mpair\u001b[0m \u001b[0;32min\u001b[0m \u001b[0mproduct\u001b[0m\u001b[0;34m(\u001b[0m\u001b[0mzips\u001b[0m\u001b[0;34m,\u001b[0m \u001b[0mzips\u001b[0m\u001b[0;34m)\u001b[0m\u001b[0;34m:\u001b[0m\u001b[0;34m\u001b[0m\u001b[0m\n\u001b[1;32m     32\u001b[0m             \u001b[0;32mif\u001b[0m \u001b[0mpair\u001b[0m\u001b[0;34m[\u001b[0m\u001b[0;36m0\u001b[0m\u001b[0;34m]\u001b[0m\u001b[0;34m[\u001b[0m\u001b[0;36m1\u001b[0m\u001b[0;34m]\u001b[0m \u001b[0;34m!=\u001b[0m \u001b[0mpair\u001b[0m\u001b[0;34m[\u001b[0m\u001b[0;36m1\u001b[0m\u001b[0;34m]\u001b[0m\u001b[0;34m[\u001b[0m\u001b[0;36m1\u001b[0m\u001b[0;34m]\u001b[0m\u001b[0;34m:\u001b[0m\u001b[0;34m\u001b[0m\u001b[0m\n\u001b[0;32m---> 33\u001b[0;31m                 \u001b[0mdist\u001b[0m \u001b[0;34m=\u001b[0m \u001b[0mdistfcn\u001b[0m\u001b[0;34m(\u001b[0m\u001b[0mpair\u001b[0m\u001b[0;34m[\u001b[0m\u001b[0;36m0\u001b[0m\u001b[0;34m]\u001b[0m\u001b[0;34m[\u001b[0m\u001b[0;36m0\u001b[0m\u001b[0;34m]\u001b[0m\u001b[0;34m,\u001b[0m \u001b[0mpair\u001b[0m\u001b[0;34m[\u001b[0m\u001b[0;36m1\u001b[0m\u001b[0;34m]\u001b[0m\u001b[0;34m[\u001b[0m\u001b[0;36m0\u001b[0m\u001b[0;34m]\u001b[0m\u001b[0;34m)\u001b[0m\u001b[0;34m\u001b[0m\u001b[0m\n\u001b[0m\u001b[1;32m     34\u001b[0m                 \u001b[0;32mif\u001b[0m \u001b[0mdist\u001b[0m \u001b[0;34m<\u001b[0m \u001b[0mepsilon\u001b[0m\u001b[0;34m:\u001b[0m\u001b[0;34m\u001b[0m\u001b[0m\n\u001b[1;32m     35\u001b[0m                     \u001b[0mg\u001b[0m\u001b[0;34m.\u001b[0m\u001b[0madd_edge\u001b[0m\u001b[0;34m(\u001b[0m\u001b[0mpair\u001b[0m\u001b[0;34m[\u001b[0m\u001b[0;36m0\u001b[0m\u001b[0;34m]\u001b[0m\u001b[0;34m[\u001b[0m\u001b[0;36m1\u001b[0m\u001b[0;34m]\u001b[0m\u001b[0;34m,\u001b[0m \u001b[0mpair\u001b[0m\u001b[0;34m[\u001b[0m\u001b[0;36m1\u001b[0m\u001b[0;34m]\u001b[0m\u001b[0;34m[\u001b[0m\u001b[0;36m1\u001b[0m\u001b[0;34m]\u001b[0m\u001b[0;34m)\u001b[0m\u001b[0;34m\u001b[0m\u001b[0m\n",
      "\u001b[0;32m/Users/elizavetamaslennikova/opt/anaconda2/lib/python2.7/site-packages/scipy/spatial/distance.pyc\u001b[0m in \u001b[0;36meuclidean\u001b[0;34m(u, v, w)\u001b[0m\n\u001b[1;32m    600\u001b[0m \u001b[0;34m\u001b[0m\u001b[0m\n\u001b[1;32m    601\u001b[0m     \"\"\"\n\u001b[0;32m--> 602\u001b[0;31m     \u001b[0;32mreturn\u001b[0m \u001b[0mminkowski\u001b[0m\u001b[0;34m(\u001b[0m\u001b[0mu\u001b[0m\u001b[0;34m,\u001b[0m \u001b[0mv\u001b[0m\u001b[0;34m,\u001b[0m \u001b[0mp\u001b[0m\u001b[0;34m=\u001b[0m\u001b[0;36m2\u001b[0m\u001b[0;34m,\u001b[0m \u001b[0mw\u001b[0m\u001b[0;34m=\u001b[0m\u001b[0mw\u001b[0m\u001b[0;34m)\u001b[0m\u001b[0;34m\u001b[0m\u001b[0m\n\u001b[0m\u001b[1;32m    603\u001b[0m \u001b[0;34m\u001b[0m\u001b[0m\n\u001b[1;32m    604\u001b[0m \u001b[0;34m\u001b[0m\u001b[0m\n",
      "\u001b[0;32m/Users/elizavetamaslennikova/opt/anaconda2/lib/python2.7/site-packages/scipy/spatial/distance.pyc\u001b[0m in \u001b[0;36mminkowski\u001b[0;34m(u, v, p, w)\u001b[0m\n\u001b[1;32m    489\u001b[0m     \"\"\"\n\u001b[1;32m    490\u001b[0m     \u001b[0mu\u001b[0m \u001b[0;34m=\u001b[0m \u001b[0m_validate_vector\u001b[0m\u001b[0;34m(\u001b[0m\u001b[0mu\u001b[0m\u001b[0;34m)\u001b[0m\u001b[0;34m\u001b[0m\u001b[0m\n\u001b[0;32m--> 491\u001b[0;31m     \u001b[0mv\u001b[0m \u001b[0;34m=\u001b[0m \u001b[0m_validate_vector\u001b[0m\u001b[0;34m(\u001b[0m\u001b[0mv\u001b[0m\u001b[0;34m)\u001b[0m\u001b[0;34m\u001b[0m\u001b[0m\n\u001b[0m\u001b[1;32m    492\u001b[0m     \u001b[0;32mif\u001b[0m \u001b[0mp\u001b[0m \u001b[0;34m<\u001b[0m \u001b[0;36m1\u001b[0m\u001b[0;34m:\u001b[0m\u001b[0;34m\u001b[0m\u001b[0m\n\u001b[1;32m    493\u001b[0m         \u001b[0;32mraise\u001b[0m \u001b[0mValueError\u001b[0m\u001b[0;34m(\u001b[0m\u001b[0;34m\"p must be at least 1\"\u001b[0m\u001b[0;34m)\u001b[0m\u001b[0;34m\u001b[0m\u001b[0m\n",
      "\u001b[0;32m/Users/elizavetamaslennikova/opt/anaconda2/lib/python2.7/site-packages/scipy/spatial/distance.pyc\u001b[0m in \u001b[0;36m_validate_vector\u001b[0;34m(u, dtype)\u001b[0m\n\u001b[1;32m    325\u001b[0m     \u001b[0mu\u001b[0m \u001b[0;34m=\u001b[0m \u001b[0mnp\u001b[0m\u001b[0;34m.\u001b[0m\u001b[0masarray\u001b[0m\u001b[0;34m(\u001b[0m\u001b[0mu\u001b[0m\u001b[0;34m,\u001b[0m \u001b[0mdtype\u001b[0m\u001b[0;34m=\u001b[0m\u001b[0mdtype\u001b[0m\u001b[0;34m,\u001b[0m \u001b[0morder\u001b[0m\u001b[0;34m=\u001b[0m\u001b[0;34m'c'\u001b[0m\u001b[0;34m)\u001b[0m\u001b[0;34m.\u001b[0m\u001b[0msqueeze\u001b[0m\u001b[0;34m(\u001b[0m\u001b[0;34m)\u001b[0m\u001b[0;34m\u001b[0m\u001b[0m\n\u001b[1;32m    326\u001b[0m     \u001b[0;31m# Ensure values such as u=1 and u=[1] still return 1-D arrays.\u001b[0m\u001b[0;34m\u001b[0m\u001b[0;34m\u001b[0m\u001b[0m\n\u001b[0;32m--> 327\u001b[0;31m     \u001b[0mu\u001b[0m \u001b[0;34m=\u001b[0m \u001b[0mnp\u001b[0m\u001b[0;34m.\u001b[0m\u001b[0matleast_1d\u001b[0m\u001b[0;34m(\u001b[0m\u001b[0mu\u001b[0m\u001b[0;34m)\u001b[0m\u001b[0;34m\u001b[0m\u001b[0m\n\u001b[0m\u001b[1;32m    328\u001b[0m     \u001b[0;32mif\u001b[0m \u001b[0mu\u001b[0m\u001b[0;34m.\u001b[0m\u001b[0mndim\u001b[0m \u001b[0;34m>\u001b[0m \u001b[0;36m1\u001b[0m\u001b[0;34m:\u001b[0m\u001b[0;34m\u001b[0m\u001b[0m\n\u001b[1;32m    329\u001b[0m         \u001b[0;32mraise\u001b[0m \u001b[0mValueError\u001b[0m\u001b[0;34m(\u001b[0m\u001b[0;34m\"Input vector should be 1-D.\"\u001b[0m\u001b[0;34m)\u001b[0m\u001b[0;34m\u001b[0m\u001b[0m\n",
      "\u001b[0;32m/Users/elizavetamaslennikova/opt/anaconda2/lib/python2.7/site-packages/numpy/core/shape_base.pyc\u001b[0m in \u001b[0;36matleast_1d\u001b[0;34m(*arys)\u001b[0m\n\u001b[1;32m     70\u001b[0m         \u001b[0;32melse\u001b[0m\u001b[0;34m:\u001b[0m\u001b[0;34m\u001b[0m\u001b[0m\n\u001b[1;32m     71\u001b[0m             \u001b[0mresult\u001b[0m \u001b[0;34m=\u001b[0m \u001b[0mary\u001b[0m\u001b[0;34m\u001b[0m\u001b[0m\n\u001b[0;32m---> 72\u001b[0;31m         \u001b[0mres\u001b[0m\u001b[0;34m.\u001b[0m\u001b[0mappend\u001b[0m\u001b[0;34m(\u001b[0m\u001b[0mresult\u001b[0m\u001b[0;34m)\u001b[0m\u001b[0;34m\u001b[0m\u001b[0m\n\u001b[0m\u001b[1;32m     73\u001b[0m     \u001b[0;32mif\u001b[0m \u001b[0mlen\u001b[0m\u001b[0;34m(\u001b[0m\u001b[0mres\u001b[0m\u001b[0;34m)\u001b[0m \u001b[0;34m==\u001b[0m \u001b[0;36m1\u001b[0m\u001b[0;34m:\u001b[0m\u001b[0;34m\u001b[0m\u001b[0m\n\u001b[1;32m     74\u001b[0m         \u001b[0;32mreturn\u001b[0m \u001b[0mres\u001b[0m\u001b[0;34m[\u001b[0m\u001b[0;36m0\u001b[0m\u001b[0;34m]\u001b[0m\u001b[0;34m\u001b[0m\u001b[0m\n",
      "\u001b[0;31mKeyboardInterrupt\u001b[0m: "
     ]
    }
   ],
   "source": [
    "complex_vr = VietorisRipsComplex(sphere, 0.0001)\n",
    "complex_vr.betti_number(0)"
   ]
  },
  {
   "cell_type": "markdown",
   "metadata": {},
   "source": [
    "That is why we can confidently conclude that **MoguTDA does not know how to work with a large set of input points**."
   ]
  },
  {
   "cell_type": "markdown",
   "metadata": {},
   "source": [
    "## Summary:"
   ]
  },
  {
   "cell_type": "markdown",
   "metadata": {},
   "source": [
    "**Advanatges** | **Disadvantages**\n",
    "-|-\n",
    "Simple simplex complex | Support only Python2\n",
    "Vietoris-Rips and Alpha Complex | Dreadful documentation, tutorial, articles\n",
    "Betti-numbers | There are no indexes of functions and classes\n",
    "Simplex saves points as a Graph from NetworkX | Meager functionality\n",
    " | Can not calculate Bar-codes\n",
    " | Can not vizualize simplex by internal implementation\n",
    " | Can not work with a large set of points\n",
    " | Code is not supported by the developer"
   ]
  },
  {
   "cell_type": "markdown",
   "metadata": {},
   "source": [
    "In general, we can say that MoguTDA can be used for **a very narrow range of tasks** and **it is not suitable for analyzing input data with large dimension**."
   ]
  },
  {
   "cell_type": "markdown",
   "metadata": {},
   "source": [
    "It should be noted that in the description of the package it is written that **MoguTDA is more suitable for educational purposes** and it is better to use heavier programs to analyze real tasks."
   ]
  },
  {
   "cell_type": "markdown",
   "metadata": {},
   "source": [
    "<img src=\"images/recommendation.png\">"
   ]
  },
  {
   "cell_type": "markdown",
   "metadata": {},
   "source": [
    "At that moment, the library **Dionysus** caught our attention. We propose an analysis of this package in the next part of this article."
   ]
  },
  {
   "cell_type": "markdown",
   "metadata": {},
   "source": [
    "# 2. C++ and Python package Dionysus"
   ]
  },
  {
   "cell_type": "markdown",
   "metadata": {},
   "source": [
    "Link on [Official Dionysus site](https://mrzv.org/software/dionysus2/) and [Github repository](https://github.com/mrzv/dionysus)"
   ]
  },
  {
   "cell_type": "markdown",
   "metadata": {},
   "source": [
    "Installation process is very simply, just using pip"
   ]
  },
  {
   "cell_type": "code",
   "execution_count": 40,
   "metadata": {},
   "outputs": [
    {
     "name": "stdout",
     "output_type": "stream",
     "text": [
      "\u001b[33mDEPRECATION: Python 2.7 will reach the end of its life on January 1st, 2020. Please upgrade your Python as Python 2.7 won't be maintained after that date. A future version of pip will drop support for Python 2.7. More details about Python 2 support in pip, can be found at https://pip.pypa.io/en/latest/development/release-process/#python-2-support\u001b[0m\n",
      "Requirement already up-to-date: dionysus in /Users/elizavetamaslennikova/opt/anaconda2/lib/python2.7/site-packages (2.0.6)\n"
     ]
    }
   ],
   "source": [
    "!pip install -U dionysus"
   ]
  },
  {
   "cell_type": "markdown",
   "metadata": {},
   "source": [
    "**Package Dionysus has a very pleasant official page:**\n",
    "\n",
    "\n",
    "\n",
    "<img src=\"images/site_2.png\">"
   ]
  },
  {
   "cell_type": "markdown",
   "metadata": {},
   "source": [
    "We would like to note that Dionysus package has a colorful content, full documentation and description of API:\n",
    "<img src=\"images/documentation.png\">"
   ]
  },
  {
   "cell_type": "markdown",
   "metadata": {},
   "source": [
    "Let's move on to the analysis of the tool’s functionality, based on documentation and open source code."
   ]
  },
  {
   "cell_type": "code",
   "execution_count": 41,
   "metadata": {},
   "outputs": [],
   "source": [
    "import dionysus"
   ]
  },
  {
   "cell_type": "markdown",
   "metadata": {},
   "source": [
    "### Simple Simplex class"
   ]
  },
  {
   "cell_type": "markdown",
   "metadata": {},
   "source": [
    "Package Dionysus provides an opportunity to build Simplex. Let's try to build simplex from the example explored earlier:\n",
    "\n",
    "<img src=\"images/simplex_faces.png\">"
   ]
  },
  {
   "cell_type": "code",
   "execution_count": 42,
   "metadata": {},
   "outputs": [
    {
     "data": {
      "text/plain": [
       "<1,2,3,4> 0"
      ]
     },
     "execution_count": 42,
     "metadata": {},
     "output_type": "execute_result"
    }
   ],
   "source": [
    "simplex = dionysus.Simplex([1,2,3,4])\n",
    "simplex"
   ]
  },
  {
   "cell_type": "markdown",
   "metadata": {},
   "source": [
    "For building it is necessary to set the points numbers which are included in the simplex."
   ]
  },
  {
   "cell_type": "code",
   "execution_count": 43,
   "metadata": {},
   "outputs": [
    {
     "data": {
      "text/plain": [
       "3"
      ]
     },
     "execution_count": 43,
     "metadata": {},
     "output_type": "execute_result"
    }
   ],
   "source": [
    "simplex.dimension()"
   ]
  },
  {
   "cell_type": "markdown",
   "metadata": {},
   "source": [
    "Moreover, convenient class interface provides an opportunity to **get the dimension of a simplex** and opportunity **to iterate over the vertices of the simplex or over the boundary**:"
   ]
  },
  {
   "cell_type": "code",
   "execution_count": 44,
   "metadata": {
    "scrolled": true
   },
   "outputs": [
    {
     "name": "stdout",
     "output_type": "stream",
     "text": [
      "1\n",
      "2\n",
      "3\n",
      "4\n"
     ]
    }
   ],
   "source": [
    "for v in simplex:\n",
    "    print(v)"
   ]
  },
  {
   "cell_type": "code",
   "execution_count": 45,
   "metadata": {},
   "outputs": [
    {
     "name": "stdout",
     "output_type": "stream",
     "text": [
      "<2,3,4> 0\n",
      "<1,3,4> 0\n",
      "<1,2,4> 0\n",
      "<1,2,3> 0\n"
     ]
    }
   ],
   "source": [
    "for sb in simplex.boundary():\n",
    "    print(sb)"
   ]
  },
  {
   "cell_type": "markdown",
   "metadata": {},
   "source": [
    "Simplices can store optional data, and the 0 reported after each boundary edge is the default value of the data. But we can change this value:"
   ]
  },
  {
   "cell_type": "code",
   "execution_count": 46,
   "metadata": {},
   "outputs": [
    {
     "name": "stdout",
     "output_type": "stream",
     "text": [
      "<1,2,3,4> 5\n"
     ]
    }
   ],
   "source": [
    "simplex.data = 5\n",
    "print(simplex)"
   ]
  },
  {
   "cell_type": "markdown",
   "metadata": {},
   "source": [
    "We can use method **closure()** to generate all faces of a set of simplices with a dimension equal or less than the specified value.\n",
    "\n",
    "For example, faces with dimension equal to 0:"
   ]
  },
  {
   "cell_type": "code",
   "execution_count": 47,
   "metadata": {},
   "outputs": [
    {
     "data": {
      "text/plain": [
       "[<1> 0, <2> 0, <3> 0, <4> 0]"
      ]
     },
     "execution_count": 47,
     "metadata": {},
     "output_type": "execute_result"
    }
   ],
   "source": [
    "dionysus.closure([simplex], 0)"
   ]
  },
  {
   "cell_type": "markdown",
   "metadata": {},
   "source": [
    "Faces with dimension equal to 0 and 1:"
   ]
  },
  {
   "cell_type": "code",
   "execution_count": 48,
   "metadata": {},
   "outputs": [
    {
     "data": {
      "text/plain": [
       "[<2,4> 0,\n",
       " <2,3> 0,\n",
       " <1,3> 0,\n",
       " <1,4> 0,\n",
       " <3,4> 0,\n",
       " <1,2> 0,\n",
       " <1> 0,\n",
       " <2> 0,\n",
       " <3> 0,\n",
       " <4> 0]"
      ]
     },
     "execution_count": 48,
     "metadata": {},
     "output_type": "execute_result"
    }
   ],
   "source": [
    "dionysus.closure([simplex], 1)"
   ]
  },
  {
   "cell_type": "markdown",
   "metadata": {},
   "source": [
    "Faces with dimension equal to 0, 1 and 2:"
   ]
  },
  {
   "cell_type": "code",
   "execution_count": 49,
   "metadata": {},
   "outputs": [
    {
     "data": {
      "text/plain": [
       "[<2,3,4> 0,\n",
       " <2,4> 0,\n",
       " <2,3> 0,\n",
       " <1,2,3> 0,\n",
       " <1,2,4> 0,\n",
       " <1,3> 0,\n",
       " <1,4> 0,\n",
       " <3,4> 0,\n",
       " <1,2> 0,\n",
       " <1,3,4> 0,\n",
       " <1> 0,\n",
       " <2> 0,\n",
       " <3> 0,\n",
       " <4> 0]"
      ]
     },
     "execution_count": 49,
     "metadata": {},
     "output_type": "execute_result"
    }
   ],
   "source": [
    "dionysus.closure([simplex], 2)"
   ]
  },
  {
   "cell_type": "markdown",
   "metadata": {},
   "source": [
    "Faces with dimension equal to 0, 1, 2 and 3:"
   ]
  },
  {
   "cell_type": "code",
   "execution_count": 50,
   "metadata": {},
   "outputs": [
    {
     "data": {
      "text/plain": [
       "[<2,3,4> 0,\n",
       " <2,4> 0,\n",
       " <1,2,3,4> 0,\n",
       " <2,3> 0,\n",
       " <1,2,3> 0,\n",
       " <1,2,4> 0,\n",
       " <1,3> 0,\n",
       " <1,4> 0,\n",
       " <3,4> 0,\n",
       " <1,2> 0,\n",
       " <1,3,4> 0,\n",
       " <1> 0,\n",
       " <2> 0,\n",
       " <3> 0,\n",
       " <4> 0]"
      ]
     },
     "execution_count": 50,
     "metadata": {},
     "output_type": "execute_result"
    }
   ],
   "source": [
    "dionysus.closure([simplex], 3)"
   ]
  },
  {
   "cell_type": "markdown",
   "metadata": {},
   "source": [
    "**Filtration** - the sequence of complexes each of which differs in exactly one simplex."
   ]
  },
  {
   "cell_type": "markdown",
   "metadata": {},
   "source": [
    "We can build filtration with default value of keys:"
   ]
  },
  {
   "cell_type": "code",
   "execution_count": 51,
   "metadata": {},
   "outputs": [
    {
     "name": "stdout",
     "output_type": "stream",
     "text": [
      "<0> 0\n",
      "<1> 0\n",
      "<2> 0\n",
      "<1,2> 0\n",
      "<0,2> 0\n",
      "<0,1> 0\n"
     ]
    }
   ],
   "source": [
    "simplices = [[0], [1], [2], [1,2], [0,2], [0,1]]\n",
    "filtr = dionysus.Filtration()\n",
    "for vertices in simplices:\n",
    "    filtr.append(dionysus.Simplex(vertices))\n",
    "for s in filtr:\n",
    "    print(s)"
   ]
  },
  {
   "cell_type": "markdown",
   "metadata": {},
   "source": [
    "We get correct filtration from simplexes without \"key\" data. In addition, we can sort them based on this data:"
   ]
  },
  {
   "cell_type": "code",
   "execution_count": 52,
   "metadata": {},
   "outputs": [
    {
     "name": "stdout",
     "output_type": "stream",
     "text": [
      "<0> 0\n",
      "<1> 0\n",
      "<2> 0\n",
      "<0,1> 0\n",
      "<0,2> 0\n",
      "<1,2> 0\n"
     ]
    }
   ],
   "source": [
    "filtr.sort()\n",
    "for s in filtr:\n",
    "    print(s)"
   ]
  },
  {
   "cell_type": "markdown",
   "metadata": {},
   "source": [
    "Visualization:\n",
    "<img src=\"images/filtration.png\">"
   ]
  },
  {
   "cell_type": "markdown",
   "metadata": {},
   "source": [
    "If you set additional data to the simplex than sorting will take them into account:"
   ]
  },
  {
   "cell_type": "code",
   "execution_count": 53,
   "metadata": {},
   "outputs": [
    {
     "name": "stdout",
     "output_type": "stream",
     "text": [
      "<2> 4\n",
      "<1,2> 5\n",
      "<0,2> 6\n",
      "<0> 1\n",
      "<1> 2\n",
      "<0,1> 3\n"
     ]
    }
   ],
   "source": [
    "simplices = [([2], 4), ([1,2], 5), ([0,2], 6), ([0], 1), ([1], 2), ([0,1], 3)]\n",
    "filtr = dionysus.Filtration()\n",
    "for vertices, time in simplices:\n",
    "    filtr.append(dionysus.Simplex(vertices, time))\n",
    "for s in filtr:\n",
    "    print(s)"
   ]
  },
  {
   "cell_type": "code",
   "execution_count": 54,
   "metadata": {},
   "outputs": [
    {
     "name": "stdout",
     "output_type": "stream",
     "text": [
      "<0> 1\n",
      "<1> 2\n",
      "<0,1> 3\n",
      "<2> 4\n",
      "<1,2> 5\n",
      "<0,2> 6\n"
     ]
    }
   ],
   "source": [
    "filtr.sort()\n",
    "for s in filtr:\n",
    "    print(s)"
   ]
  },
  {
   "cell_type": "markdown",
   "metadata": {},
   "source": [
    "Visualization:\n",
    "<img src=\"images/filtration2.png\">"
   ]
  },
  {
   "cell_type": "markdown",
   "metadata": {},
   "source": [
    "Also interface of the class provides the opportunity to find index of the current simplex in filtration:"
   ]
  },
  {
   "cell_type": "code",
   "execution_count": 55,
   "metadata": {},
   "outputs": [
    {
     "name": "stdout",
     "output_type": "stream",
     "text": [
      "4\n"
     ]
    }
   ],
   "source": [
    "print(filtr.index(dionysus.Simplex([1,2])))"
   ]
  },
  {
   "cell_type": "markdown",
   "metadata": {},
   "source": [
    "### Persisteme homology "
   ]
  },
  {
   "cell_type": "markdown",
   "metadata": {},
   "source": [
    "**Persistent homology** is a method for computing topological features of a space at different spatial resolutions.\n",
    "\n",
    "More persistent features are detected over a wide range of spatial scales and are deemed more likely to represent true features of the underlying space rather than artifacts of sampling, noise, or particular choice of parameters.\n",
    "\n",
    "To find the **persistent homology** of a space, the space must first be represented as a simplicial complex. \n",
    "\n",
    "A **persistence barcode** represents each persistent generator with a horizontal line beginning **at the first filtration level where it appears**, and **ending at the filtration level where it disappears**, while a persistence diagram plots a point for each generator with its x-coordinate the birth time and its y-coordinate the death time."
   ]
  },
  {
   "cell_type": "markdown",
   "metadata": {},
   "source": [
    "We can use **homology_persistence()** function which returns its internal representation of the reduced boundary matrix and **init_diagrams()** function to get persistance diagram:"
   ]
  },
  {
   "cell_type": "code",
   "execution_count": 56,
   "metadata": {},
   "outputs": [
    {
     "data": {
      "text/plain": [
       "Reduced matrix with 6 columns"
      ]
     },
     "execution_count": 56,
     "metadata": {},
     "output_type": "execute_result"
    }
   ],
   "source": [
    "homology = dionysus.homology_persistence(filtr)\n",
    "homology"
   ]
  },
  {
   "cell_type": "code",
   "execution_count": 57,
   "metadata": {},
   "outputs": [
    {
     "name": "stdout",
     "output_type": "stream",
     "text": [
      "[Diagram with 3 points, Diagram with 1 points]\n"
     ]
    }
   ],
   "source": [
    "dgms = dionysus.init_diagrams(homology, filtr)\n",
    "print(dgms)"
   ]
  },
  {
   "cell_type": "markdown",
   "metadata": {},
   "source": [
    "<img src=\"images/homology.png\">"
   ]
  },
  {
   "cell_type": "code",
   "execution_count": 58,
   "metadata": {
    "scrolled": true
   },
   "outputs": [
    {
     "name": "stdout",
     "output_type": "stream",
     "text": [
      "(0, 1.0, inf)\n",
      "(0, 2.0, 3.0)\n",
      "(0, 4.0, 5.0)\n",
      "(1, 6.0, inf)\n"
     ]
    }
   ],
   "source": [
    "for i, dgm in enumerate(dgms):\n",
    "    for pt in dgm:\n",
    "        print(i, pt.birth, pt.death)"
   ]
  },
  {
   "cell_type": "markdown",
   "metadata": {},
   "source": [
    "If we have several input sets, we will create several persistence diagrams and compare them using different \"distances\" function: **Wasserstein** and **Bottleneck**."
   ]
  },
  {
   "cell_type": "markdown",
   "metadata": {},
   "source": [
    "**wasserstein_distance()** computes q-th Wasserstein distance between a pair of persistence diagrams. **bottleneck_distance()** computes the bottleneck distance between a pair of persistence diagram."
   ]
  },
  {
   "cell_type": "markdown",
   "metadata": {},
   "source": [
    "For example, we generate 2 random sets with uniform distribution on the interval (0.0, 1.0) and compare their persistance diagrams."
   ]
  },
  {
   "cell_type": "code",
   "execution_count": 59,
   "metadata": {},
   "outputs": [
    {
     "data": {
      "text/plain": [
       "Filtration with 1294 simplices"
      ]
     },
     "execution_count": 59,
     "metadata": {},
     "output_type": "execute_result"
    }
   ],
   "source": [
    "# points dimensation distance\n",
    "f1 = dionysus.fill_rips(np.random.random((20, 2)), 2, 1)\n",
    "f1"
   ]
  },
  {
   "cell_type": "code",
   "execution_count": 60,
   "metadata": {},
   "outputs": [
    {
     "data": {
      "text/plain": [
       "Reduced matrix with 1294 columns"
      ]
     },
     "execution_count": 60,
     "metadata": {},
     "output_type": "execute_result"
    }
   ],
   "source": [
    "m1 = dionysus.homology_persistence(f1)\n",
    "m1"
   ]
  },
  {
   "cell_type": "code",
   "execution_count": 61,
   "metadata": {},
   "outputs": [
    {
     "data": {
      "text/plain": [
       "[Diagram with 20 points, Diagram with 3 points, Diagram with 919 points]"
      ]
     },
     "execution_count": 61,
     "metadata": {},
     "output_type": "execute_result"
    }
   ],
   "source": [
    "dgms1 = dionysus.init_diagrams(m1, f1)\n",
    "dgms1"
   ]
  },
  {
   "cell_type": "code",
   "execution_count": 62,
   "metadata": {},
   "outputs": [
    {
     "data": {
      "image/png": "[encoded data removed]",
      "text/plain": [
       "<Figure size 432x288 with 1 Axes>"
      ]
     },
     "metadata": {
      "needs_background": "light"
     },
     "output_type": "display_data"
    }
   ],
   "source": [
    "dionysus.plot.plot_diagram(dgms1[1], show = True)"
   ]
  },
  {
   "cell_type": "code",
   "execution_count": 63,
   "metadata": {},
   "outputs": [
    {
     "data": {
      "image/png": "[encoded data removed]",
      "text/plain": [
       "<Figure size 432x288 with 1 Axes>"
      ]
     },
     "metadata": {
      "needs_background": "light"
     },
     "output_type": "display_data"
    }
   ],
   "source": [
    "dionysus.plot.plot_bars(dgms1[1], show = True)"
   ]
  },
  {
   "cell_type": "code",
   "execution_count": 64,
   "metadata": {},
   "outputs": [
    {
     "data": {
      "text/plain": [
       "Filtration with 1312 simplices"
      ]
     },
     "execution_count": 64,
     "metadata": {},
     "output_type": "execute_result"
    }
   ],
   "source": [
    "f2 = dionysus.fill_rips(np.random.random((20, 2)), 2, 1)\n",
    "f2"
   ]
  },
  {
   "cell_type": "code",
   "execution_count": 65,
   "metadata": {},
   "outputs": [
    {
     "data": {
      "text/plain": [
       "Reduced matrix with 1312 columns"
      ]
     },
     "execution_count": 65,
     "metadata": {},
     "output_type": "execute_result"
    }
   ],
   "source": [
    "m2 = dionysus.homology_persistence(f2)\n",
    "m2"
   ]
  },
  {
   "cell_type": "code",
   "execution_count": 66,
   "metadata": {},
   "outputs": [
    {
     "data": {
      "text/plain": [
       "[Diagram with 20 points, Diagram with 3 points, Diagram with 935 points]"
      ]
     },
     "execution_count": 66,
     "metadata": {},
     "output_type": "execute_result"
    }
   ],
   "source": [
    "dgms2 = dionysus.init_diagrams(m2, f2)\n",
    "dgms2"
   ]
  },
  {
   "cell_type": "code",
   "execution_count": 67,
   "metadata": {},
   "outputs": [
    {
     "data": {
      "image/png": "[encoded data removed]",
      "text/plain": [
       "<Figure size 432x288 with 1 Axes>"
      ]
     },
     "metadata": {
      "needs_background": "light"
     },
     "output_type": "display_data"
    }
   ],
   "source": [
    "dionysus.plot.plot_diagram(dgms2[1], show = True)"
   ]
  },
  {
   "cell_type": "code",
   "execution_count": 68,
   "metadata": {},
   "outputs": [
    {
     "data": {
      "image/png": "[encoded data removed]",
      "text/plain": [
       "<Figure size 432x288 with 1 Axes>"
      ]
     },
     "metadata": {
      "needs_background": "light"
     },
     "output_type": "display_data"
    }
   ],
   "source": [
    "dionysus.plot.plot_bars(dgms2[1], show = True)"
   ]
  },
  {
   "cell_type": "code",
   "execution_count": 69,
   "metadata": {},
   "outputs": [
    {
     "name": "stdout",
     "output_type": "stream",
     "text": [
      "('2-Wasserstein distance between 1-dimensional persistence diagrams:', 0.04803173243999481)\n"
     ]
    }
   ],
   "source": [
    "wdist = dionysus.wasserstein_distance(dgms1[1], dgms2[1], q=2)\n",
    "print(\"2-Wasserstein distance between 1-dimensional persistence diagrams:\", wdist)"
   ]
  },
  {
   "cell_type": "code",
   "execution_count": 70,
   "metadata": {},
   "outputs": [
    {
     "name": "stdout",
     "output_type": "stream",
     "text": [
      "('Bottleneck distance between 1-dimensional persistence diagrams:', 0.04042370617389679)\n"
     ]
    }
   ],
   "source": [
    "bdist = dionysus.bottleneck_distance(dgms1[1], dgms2[1])\n",
    "print(\"Bottleneck distance between 1-dimensional persistence diagrams:\", bdist)"
   ]
  },
  {
   "cell_type": "markdown",
   "metadata": {},
   "source": [
    "As you can see, the distance between the diagrams is **very small**. This was to be expected because of the fact that the data in both sets were generated with the same distribution."
   ]
  },
  {
   "cell_type": "markdown",
   "metadata": {},
   "source": [
    "**Mistake in documentation!**\n",
    "\n",
    "<img src=\"images/mistake.png\">"
   ]
  },
  {
   "cell_type": "code",
   "execution_count": 71,
   "metadata": {},
   "outputs": [
    {
     "data": {
      "text/plain": [
       "Reduced matrix with 4 columns"
      ]
     },
     "execution_count": 71,
     "metadata": {},
     "output_type": "execute_result"
    }
   ],
   "source": [
    "simplices = [[0], [1], [0,1], [2]]\n",
    "f = dionysus.Filtration(simplices)\n",
    "f.sort()\n",
    "m = dionysus.homology_persistence(f)\n",
    "m"
   ]
  },
  {
   "cell_type": "code",
   "execution_count": 72,
   "metadata": {},
   "outputs": [
    {
     "ename": "AttributeError",
     "evalue": "'dionysus._dionysus.ReducedMatrix' object has no attribute 'homologous'",
     "output_type": "error",
     "traceback": [
      "\u001b[0;31m---------------------------------------------------------------------------\u001b[0m",
      "\u001b[0;31mAttributeError\u001b[0m                            Traceback (most recent call last)",
      "\u001b[0;32m<ipython-input-72-ff99e83971da>\u001b[0m in \u001b[0;36m<module>\u001b[0;34m()\u001b[0m\n\u001b[0;32m----> 1\u001b[0;31m \u001b[0mm\u001b[0m\u001b[0;34m.\u001b[0m\u001b[0mhomologous\u001b[0m\u001b[0;34m(\u001b[0m\u001b[0md\u001b[0m\u001b[0;34m.\u001b[0m\u001b[0mChain\u001b[0m\u001b[0;34m(\u001b[0m\u001b[0;34m[\u001b[0m\u001b[0;34m(\u001b[0m\u001b[0;36m1\u001b[0m\u001b[0;34m,\u001b[0m\u001b[0;36m0\u001b[0m\u001b[0;34m)\u001b[0m\u001b[0;34m]\u001b[0m\u001b[0;34m)\u001b[0m\u001b[0;34m,\u001b[0m \u001b[0md\u001b[0m\u001b[0;34m.\u001b[0m\u001b[0mChain\u001b[0m\u001b[0;34m(\u001b[0m\u001b[0;34m[\u001b[0m\u001b[0;34m(\u001b[0m\u001b[0;36m1\u001b[0m\u001b[0;34m,\u001b[0m\u001b[0;36m1\u001b[0m\u001b[0;34m)\u001b[0m\u001b[0;34m]\u001b[0m\u001b[0;34m)\u001b[0m\u001b[0;34m)\u001b[0m\u001b[0;34m\u001b[0m\u001b[0m\n\u001b[0m",
      "\u001b[0;31mAttributeError\u001b[0m: 'dionysus._dionysus.ReducedMatrix' object has no attribute 'homologous'"
     ]
    }
   ],
   "source": [
    "m.homologous(d.Chain([(1,0)]), d.Chain([(1,1)]))"
   ]
  },
  {
   "cell_type": "markdown",
   "metadata": {},
   "source": [
    "There is an example about homologous cycles in documentation but python implementation of Dionysus reduced matrix does not have **homologous** method."
   ]
  },
  {
   "cell_type": "markdown",
   "metadata": {},
   "source": [
    "<img src=\"images/mistake2.png\">"
   ]
  },
  {
   "cell_type": "markdown",
   "metadata": {},
   "source": [
    "### Vietoris–Rips Complexes "
   ]
  },
  {
   "cell_type": "markdown",
   "metadata": {},
   "source": [
    "Package Dionysus provides an opportunity to build Vietoris–Rips simplicial complex which was already mentioned in the firts part of this article."
   ]
  },
  {
   "cell_type": "markdown",
   "metadata": {},
   "source": [
    "Moreover, we can construct this complex **from coordinates of points** or **from distance matrices**:"
   ]
  },
  {
   "cell_type": "code",
   "execution_count": 73,
   "metadata": {
    "scrolled": true
   },
   "outputs": [
    {
     "data": {
      "text/plain": [
       "Filtration with 5926 simplices"
      ]
     },
     "execution_count": 73,
     "metadata": {},
     "output_type": "execute_result"
    }
   ],
   "source": [
    "points = np.random.random((100,2))\n",
    "f = dionysus.fill_rips(points, 2, .3)\n",
    "f"
   ]
  },
  {
   "cell_type": "code",
   "execution_count": 75,
   "metadata": {},
   "outputs": [
    {
     "data": {
      "text/plain": [
       "Filtration with 5926 simplices"
      ]
     },
     "execution_count": 75,
     "metadata": {},
     "output_type": "execute_result"
    }
   ],
   "source": [
    "from scipy.spatial.distance import pdist\n",
    "\n",
    "dists = pdist(points)\n",
    "f = dionysus.fill_rips(dists, 2, .3)\n",
    "f"
   ]
  },
  {
   "cell_type": "markdown",
   "metadata": {},
   "source": [
    "### Cohomology Persistence "
   ]
  },
  {
   "cell_type": "markdown",
   "metadata": {},
   "source": [
    "One of the significant advantages of this library is the ability to analyze data using **Cohomology Persistance**. \n",
    "You can find more detailed information in the next [article](https://link.springer.com/article/10.1007%2Fs00454-011-9344-x)."
   ]
  },
  {
   "cell_type": "code",
   "execution_count": 76,
   "metadata": {},
   "outputs": [
    {
     "data": {
      "text/plain": [
       "Filtration with 6 simplices"
      ]
     },
     "execution_count": 76,
     "metadata": {},
     "output_type": "execute_result"
    }
   ],
   "source": [
    "simplices = [([2], 4), ([1,2], 5), ([0,2], 6), ([0], 1), ([1], 2), ([0,1], 3)]\n",
    "f = dionysus.Filtration()\n",
    "for vertices, time in simplices:\n",
    "    f.append(dionysus.Simplex(vertices, time))\n",
    "f"
   ]
  },
  {
   "cell_type": "code",
   "execution_count": 77,
   "metadata": {},
   "outputs": [
    {
     "data": {
      "text/plain": [
       "Cohomology persistence of 6 cells"
      ]
     },
     "execution_count": 77,
     "metadata": {},
     "output_type": "execute_result"
    }
   ],
   "source": [
    "f.sort()\n",
    "p = dionysus.cohomology_persistence(f, prime=2)\n",
    "p"
   ]
  },
  {
   "cell_type": "markdown",
   "metadata": {},
   "source": [
    "Interface of this package also provides the opportunity to visualize persistance diagrams and bar-codes."
   ]
  },
  {
   "cell_type": "code",
   "execution_count": 78,
   "metadata": {},
   "outputs": [
    {
     "name": "stdout",
     "output_type": "stream",
     "text": [
      "(0, (1,inf))\n",
      "(0, (2,3))\n",
      "(0, (4,5))\n",
      "(1, (6,inf))\n"
     ]
    }
   ],
   "source": [
    "dgms = dionysus.init_diagrams(p, f)\n",
    "for i,dgm in enumerate(dgms):\n",
    "    for pt in dgm:\n",
    "        print(i, pt)"
   ]
  },
  {
   "cell_type": "code",
   "execution_count": 79,
   "metadata": {},
   "outputs": [
    {
     "data": {
      "image/png": "[encoded data removed]",
      "text/plain": [
       "<Figure size 432x288 with 1 Axes>"
      ]
     },
     "metadata": {
      "needs_background": "light"
     },
     "output_type": "display_data"
    }
   ],
   "source": [
    "dionysus.plot.plot_diagram(dgms[0], show = True)"
   ]
  },
  {
   "cell_type": "code",
   "execution_count": 80,
   "metadata": {},
   "outputs": [
    {
     "data": {
      "image/png": "[encoded data removed]",
      "text/plain": [
       "<Figure size 432x288 with 1 Axes>"
      ]
     },
     "metadata": {
      "needs_background": "light"
     },
     "output_type": "display_data"
    }
   ],
   "source": [
    "dionysus.plot.plot_bars(dgms[0], show = True)"
   ]
  },
  {
   "cell_type": "markdown",
   "metadata": {},
   "source": [
    "### Circular Coordinates "
   ]
  },
  {
   "cell_type": "markdown",
   "metadata": {},
   "source": [
    "Every 1-dimensional cocycle (over integer coefficients) corresponds to a map from the space to a circle. [Persistent Cohomology and Circular Coordinates](https://link.springer.com/article/10.1007%2Fs00454-011-9344-x) outlines a methodology for computing a map from a point set to a circle that represents a persistent cocycle in the data. This section sketches an example of how you can use Dionysus to compute such a map.\n",
    "\n",
    "As our sample, we generate 100 points on a circle with some noise:"
   ]
  },
  {
   "cell_type": "code",
   "execution_count": 84,
   "metadata": {},
   "outputs": [],
   "source": [
    "points = np.random.normal(size = (100,2))\n",
    "for i in range(points.shape[0]):\n",
    "    points[i] = points[i] / np.linalg.norm(points[i], ord=2) * np.random.uniform(1,1.5)"
   ]
  },
  {
   "cell_type": "code",
   "execution_count": 85,
   "metadata": {},
   "outputs": [
    {
     "data": {
      "image/png": "[encoded data removed]",
      "text/plain": [
       "<Figure size 504x504 with 1 Axes>"
      ]
     },
     "metadata": {
      "needs_background": "light"
     },
     "output_type": "display_data"
    }
   ],
   "source": [
    "plt.figure(figsize=(7,7))\n",
    "plt.scatter(points[:,0], points[:,1])\n",
    "plt.show()"
   ]
  },
  {
   "cell_type": "code",
   "execution_count": 86,
   "metadata": {},
   "outputs": [
    {
     "data": {
      "text/plain": [
       "[Diagram with 100 points, Diagram with 5 points, Diagram with 41323 points]"
      ]
     },
     "execution_count": 86,
     "metadata": {},
     "output_type": "execute_result"
    }
   ],
   "source": [
    "f = dionysus.fill_rips(points, 2, 2.)\n",
    "p = dionysus.cohomology_persistence(f, 11, True)\n",
    "dgms = dionysus.init_diagrams(p, f)\n",
    "dgms"
   ]
  },
  {
   "cell_type": "markdown",
   "metadata": {},
   "source": [
    "The 0-dimensional and 1-dimensional barcodes, plotted below using the built-in plotting functionality, reflects that we’ve sampled a circle."
   ]
  },
  {
   "cell_type": "markdown",
   "metadata": {},
   "source": [
    "The 0-dimensional diagram and bar-code:"
   ]
  },
  {
   "cell_type": "code",
   "execution_count": 87,
   "metadata": {},
   "outputs": [
    {
     "data": {
      "image/png": "[encoded data removed]",
      "text/plain": [
       "<Figure size 432x288 with 1 Axes>"
      ]
     },
     "metadata": {
      "needs_background": "light"
     },
     "output_type": "display_data"
    }
   ],
   "source": [
    "dionysus.plot.plot_diagram(dgms[0], show = True)"
   ]
  },
  {
   "cell_type": "code",
   "execution_count": 88,
   "metadata": {},
   "outputs": [
    {
     "data": {
      "image/png": "[encoded data removed]",
      "text/plain": [
       "<Figure size 432x288 with 1 Axes>"
      ]
     },
     "metadata": {
      "needs_background": "light"
     },
     "output_type": "display_data"
    }
   ],
   "source": [
    "dionysus.plot.plot_bars(dgms[0], show = True)"
   ]
  },
  {
   "cell_type": "markdown",
   "metadata": {},
   "source": [
    "It is usually customary to use the 1-dimensional diagram for analysis because it is more informative:"
   ]
  },
  {
   "cell_type": "code",
   "execution_count": 89,
   "metadata": {},
   "outputs": [
    {
     "data": {
      "image/png": "[encoded data removed]",
      "text/plain": [
       "<Figure size 432x288 with 1 Axes>"
      ]
     },
     "metadata": {
      "needs_background": "light"
     },
     "output_type": "display_data"
    }
   ],
   "source": [
    "dionysus.plot.plot_diagram(dgms[1], show = True)"
   ]
  },
  {
   "cell_type": "code",
   "execution_count": 90,
   "metadata": {
    "scrolled": true
   },
   "outputs": [
    {
     "data": {
      "image/png": "[encoded data removed]",
      "text/plain": [
       "<Figure size 432x288 with 1 Axes>"
      ]
     },
     "metadata": {
      "needs_background": "light"
     },
     "output_type": "display_data"
    }
   ],
   "source": [
    "dionysus.plot.plot_bars(dgms[1], show = True)"
   ]
  },
  {
   "cell_type": "markdown",
   "metadata": {},
   "source": [
    "We select the longest bar (which represent a feature) and take its corresponding cocycle:"
   ]
  },
  {
   "cell_type": "code",
   "execution_count": 91,
   "metadata": {},
   "outputs": [
    {
     "data": {
      "text/plain": [
       "(0.31377,1.86043)"
      ]
     },
     "execution_count": 91,
     "metadata": {},
     "output_type": "execute_result"
    }
   ],
   "source": [
    "pt = max(dgms[1], key = lambda pt: pt.death - pt.birth)\n",
    "pt"
   ]
  },
  {
   "cell_type": "code",
   "execution_count": 92,
   "metadata": {},
   "outputs": [],
   "source": [
    "cocycle = p.cocycle(pt.data)\n",
    "f_restricted = dionysus.Filtration([s for s in f if s.data <= (pt.death + pt.birth)/2])\n",
    "vertex_values = dionysus.smooth(f_restricted, cocycle, 11)"
   ]
  },
  {
   "cell_type": "markdown",
   "metadata": {},
   "source": [
    "Let's try to visualize input point with coloring relative to the analysis:"
   ]
  },
  {
   "cell_type": "code",
   "execution_count": 93,
   "metadata": {
    "scrolled": false
   },
   "outputs": [
    {
     "data": {
      "image/png": "[encoded data removed]",
      "text/plain": [
       "<Figure size 504x504 with 1 Axes>"
      ]
     },
     "metadata": {
      "needs_background": "light"
     },
     "output_type": "display_data"
    }
   ],
   "source": [
    "plt.figure(figsize=(7,7))\n",
    "plt.scatter(points[:,0], points[:,1], c = vertex_values, cmap = 'hsv')\n",
    "plt.show()"
   ]
  },
  {
   "cell_type": "markdown",
   "metadata": {},
   "source": [
    "As you can see, we build a nice map from a point set to a circle that represents a persistent cocycle in the data!"
   ]
  },
  {
   "cell_type": "markdown",
   "metadata": {},
   "source": [
    "### Additional notice"
   ]
  },
  {
   "cell_type": "markdown",
   "metadata": {},
   "source": [
    "If you want to analyze large set of points and create persistance diagram for them, you will get a very unrepresentative picture:"
   ]
  },
  {
   "cell_type": "code",
   "execution_count": 94,
   "metadata": {},
   "outputs": [
    {
     "data": {
      "image/png": "[encoded data removed]",
      "text/plain": [
       "<Figure size 432x288 with 1 Axes>"
      ]
     },
     "metadata": {
      "needs_background": "light"
     },
     "output_type": "display_data"
    }
   ],
   "source": [
    "input_set = np.random.random((800,800))\n",
    "f = dionysus.fill_freudenthal(input_set)\n",
    "m = dionysus.homology_persistence(f)\n",
    "dgms = dionysus.init_diagrams(m, f)\n",
    "dionysus.plot.plot_diagram(dgms[1], show = True)"
   ]
  },
  {
   "cell_type": "markdown",
   "metadata": {},
   "source": [
    "When the diagram is very dense, it’s often convenient to look at **the histogram of point density** whose interface is implemented inside the package:"
   ]
  },
  {
   "cell_type": "code",
   "execution_count": 95,
   "metadata": {},
   "outputs": [
    {
     "data": {
      "image/png": "[encoded data removed]",
      "text/plain": [
       "<Figure size 432x288 with 2 Axes>"
      ]
     },
     "metadata": {
      "needs_background": "light"
     },
     "output_type": "display_data"
    }
   ],
   "source": [
    "dionysus.plot.plot_diagram_density(dgms[1], show = True)"
   ]
  },
  {
   "cell_type": "markdown",
   "metadata": {},
   "source": [
    "As we can see, this plot visualize points with its density which allows to make the analysis more correctly."
   ]
  },
  {
   "cell_type": "markdown",
   "metadata": {},
   "source": [
    "## Summary:"
   ]
  },
  {
   "cell_type": "markdown",
   "metadata": {},
   "source": [
    "**Advanatges** | **Disadvantages**\n",
    "-|-\n",
    "Powerful documentation and tutorial | Mistakes in tutorial\n",
    "Detailed indexes |\n",
    "Realization of simplex, filtration, Vietoris-Rips complex | Can not build Alpha Complex\n",
    "Realization of Persistent Homology, Diagram Distances, Homologous Cycles |\n",
    "Realization of different type of Persistence (Omni-field, Cohomology, Zigzag) |\n",
    "Different type of distance's function | \n",
    "Calculate Bar codes and diagramms and vizualize them by internal implementation | Can not vizualize **simplex** by internal implementation \n",
    "Code is maintained constantly |"
   ]
  },
  {
   "cell_type": "markdown",
   "metadata": {},
   "source": [
    "In general, we can say that Dionysus package has **significant functionality with fast and optimized implementation** and can be used to **fully analyze even a large set of input data**."
   ]
  }
 ],
 "metadata": {
  "kernelspec": {
   "display_name": "Python 2",
   "language": "python",
   "name": "python2"
  },
  "language_info": {
   "codemirror_mode": {
    "name": "ipython",
    "version": 2
   },
   "file_extension": ".py",
   "mimetype": "text/x-python",
   "name": "python",
   "nbconvert_exporter": "python",
   "pygments_lexer": "ipython2",
   "version": "2.7.16"
  }
 },
 "nbformat": 4,
 "nbformat_minor": 2
}
